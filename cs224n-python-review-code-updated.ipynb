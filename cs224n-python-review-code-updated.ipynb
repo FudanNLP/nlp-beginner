{
 "cells": [
  {
   "cell_type": "markdown",
   "metadata": {},
   "source": [
    "### Agenda\n",
    "\n",
    "1. Installation\n",
    "\n",
    "2. Basics\n",
    "\n",
    "3. Iterables \n",
    "\n",
    "4. Numpy (for math and matrix operations)\n",
    "\n",
    "5. Matplotlib (for plotting)\n",
    "\n",
    "6. Q&A "
   ]
  },
  {
   "cell_type": "code",
   "execution_count": 1,
   "metadata": {},
   "outputs": [],
   "source": [
    "# Note: This tutorial is based on Python 3.8\n",
    "#       but it should apply to all Python 3.X versions\n",
    "# Please note that this tutorial is NOT exhaustive\n",
    "# We try to cover everything you need for class assignments\n",
    "# but you should also navigate external resources\n",
    "#\n",
    "# More tutorials:\n",
    "# NUMPY:\n",
    "# https://cs231n.github.io/python-numpy-tutorial/#numpy\n",
    "# https://numpy.org/doc/stable/user/quickstart.html\n",
    "# MATPLOTLIB:\n",
    "# https://matplotlib.org/gallery/index.html\n",
    "# BASICS:\n",
    "# https://www.w3schools.com/python/\n",
    "# CONSULT THESE WISELY:\n",
    "# The official documentation, Google, and Stack-overflow are your friends!"
   ]
  },
  {
   "cell_type": "markdown",
   "metadata": {},
   "source": [
    "### 1. Installation\n",
    "#### Anaconda for environment management \n",
    "\n",
    "https://www.anaconda.com/\n",
    "\n",
    "common commands\n",
    "\n",
    "conda env list                                <-- list all environments\n",
    "\n",
    "conda create -n newenv python=3.8            <-- create new environment\n",
    "\n",
    "conda enc create -f env.yml     <-- create environment from config file\n",
    "\n",
    "conda activate envname                       <-- activate a environment\n",
    "\n",
    "conda deactivate                                   <-- exit environment\n",
    "\n",
    "pip install packagename     <-- install package for current environment\n",
    "\n",
    "jupyter notebook                <-- open jupyter in current environment\n",
    "\n",
    "#### Package installation using conda/pip\n",
    "\n",
    "Live demo\n",
    "\n",
    "#### Recommended IDEs\n",
    "\n",
    "Spyder (in-built in Anaconda) <br/>\n",
    "\n",
    "Pycharm (the most popular choice, compatible with Anaconda)"
   ]
  },
  {
   "cell_type": "code",
   "execution_count": 2,
   "metadata": {},
   "outputs": [],
   "source": [
    "# common anaconda commands\n",
    "#conda env list\n",
    "#conda create -n name python=3.8\n",
    "#conda env create -f env.yml\n",
    "#conda activate python2.7\n",
    "#conda deactivate\n",
    "#install packages\n",
    "#pip install <package>       "
   ]
  },
  {
   "cell_type": "markdown",
   "metadata": {},
   "source": [
    "### 2. Basics\n",
    "\n",
    "https://www.w3schools.com/python/"
   ]
  },
  {
   "cell_type": "code",
   "execution_count": null,
   "metadata": {},
   "outputs": [
    {
     "name": "stdout",
     "output_type": "stream",
     "text": [
      "224N\n",
      "hello, 224N\n"
     ]
    }
   ],
   "source": [
    "# input and output\n",
    "name = input()\n",
    "print(\"hello, \" + name)"
   ]
  },
  {
   "cell_type": "code",
   "execution_count": 1,
   "metadata": {},
   "outputs": [
    {
     "ename": "NameError",
     "evalue": "name 'name' is not defined",
     "traceback": [
      "\u001b[1;31m---------------------------------------------------------------------------\u001b[0m",
      "\u001b[1;31mNameError\u001b[0m                                 Traceback (most recent call last)",
      "\u001b[1;32m<ipython-input-1-5efe2a8e17a7>\u001b[0m in \u001b[0;36m<module>\u001b[1;34m\u001b[0m\n\u001b[0;32m      1\u001b[0m \u001b[1;31m# print multiple variables separated by a space\u001b[0m\u001b[1;33m\u001b[0m\u001b[1;33m\u001b[0m\u001b[1;33m\u001b[0m\u001b[0m\n\u001b[1;32m----> 2\u001b[1;33m \u001b[0mprint\u001b[0m\u001b[1;33m(\u001b[0m\u001b[1;34m\"hello\"\u001b[0m\u001b[1;33m,\u001b[0m \u001b[0mname\u001b[0m\u001b[1;33m,\u001b[0m \u001b[1;36m1\u001b[0m\u001b[1;33m,\u001b[0m \u001b[1;36m3.0\u001b[0m\u001b[1;33m,\u001b[0m \u001b[1;32mTrue\u001b[0m\u001b[1;33m)\u001b[0m\u001b[1;33m\u001b[0m\u001b[1;33m\u001b[0m\u001b[0m\n\u001b[0m",
      "\u001b[1;31mNameError\u001b[0m: name 'name' is not defined"
     ],
     "output_type": "error"
    }
   ],
   "source": [
    "# print multiple variables separated by a space\n",
    "print(\"hello\", name, 1, 3.0, True)"
   ]
  },
  {
   "cell_type": "code",
   "execution_count": null,
   "metadata": {},
   "outputs": [],
   "source": []
  },
  {
   "cell_type": "code",
   "execution_count": 5,
   "metadata": {},
   "outputs": [
    {
     "data": {
      "text/plain": [
       "'\\nblock \\ncomments\\n'"
      ]
     },
     "execution_count": 5,
     "metadata": {},
     "output_type": "execute_result"
    }
   ],
   "source": [
    "# line comment\n",
    "\"\"\"\n",
    "block \n",
    "comments\n",
    "\"\"\""
   ]
  },
  {
   "cell_type": "code",
   "execution_count": 6,
   "metadata": {},
   "outputs": [],
   "source": [
    "# variables don't need explicit declaration\n",
    "var = \"hello\" # string\n",
    "var = 10.0    # float\n",
    "var = 10      # int\n",
    "var = True    # boolean\n",
    "var = [1,2,3] # pointer to list\n",
    "var = None    # empty pointer"
   ]
  },
  {
   "cell_type": "code",
   "execution_count": 7,
   "metadata": {},
   "outputs": [
    {
     "name": "stdout",
     "output_type": "stream",
     "text": [
      "10\n",
      "10\n",
      "10.0\n"
     ]
    }
   ],
   "source": [
    "# type conversions\n",
    "var = 10\n",
    "print(int(var))\n",
    "print(str(var))\n",
    "print(float(var))"
   ]
  },
  {
   "cell_type": "code",
   "execution_count": 8,
   "metadata": {},
   "outputs": [
    {
     "name": "stdout",
     "output_type": "stream",
     "text": [
      "var + 4 = 14\n",
      "var - 4 = 6\n",
      "var * 4 = 40\n",
      "var ^ 4= 10000\n",
      "int(var) / 4 = 2\n",
      "float(var) / 4 = 2.5\n"
     ]
    }
   ],
   "source": [
    "# basic math operations\n",
    "var = 10\n",
    "print(\"var + 4 =\", 10 + 4)\n",
    "print(\"var - 4 =\", 10 - 4)\n",
    "print(\"var * 4 =\", 10 * 4)\n",
    "print(\"var ^ 4=\", 10 ** 4)\n",
    "print(\"int(var) / 4 =\", 10//4)   # // for int division\n",
    "print(\"float(var) / 4 =\", 10/4)  # / for float division\n",
    "# All compound assignment operators available\n",
    "# including += -= *= **= /= //= \n",
    "# pre/post in/decrementers not available (++ --)"
   ]
  },
  {
   "cell_type": "code",
   "execution_count": 9,
   "metadata": {},
   "outputs": [
    {
     "name": "stdout",
     "output_type": "stream",
     "text": [
      "not True is False\n",
      "True and False is False\n",
      "True or False is True\n"
     ]
    }
   ],
   "source": [
    "# basic boolean operations include \"and\", \"or\", \"not\"\n",
    "print(\"not True is\", not True)\n",
    "print(\"True and False is\", True and False)\n",
    "print(\"True or False is\", True or False)"
   ]
  },
  {
   "cell_type": "code",
   "execution_count": 10,
   "metadata": {},
   "outputs": [
    {
     "name": "stdout",
     "output_type": "stream",
     "text": [
      "6\n",
      "S\n",
      "tr\n",
      "This is a String!\n",
      "string\n",
      "StringStringStringString\n",
      "True\n",
      "2\n",
      "['I', 'am', 'a', 'sentence']\n",
      "a...b...c\n",
      "Formatting a string like 0.12\n",
      "Or like String!\n"
     ]
    }
   ],
   "source": [
    "# String operations\n",
    "# '' and \"\" are equivalent\n",
    "s = \"String\"\n",
    "#s = 'Mary said \"Hello\" to John'\n",
    "#s = \"Mary said \\\"Hello\\\" to John\"\n",
    "\n",
    "# basic\n",
    "print(len(s)) # get length of string and any iterable type\n",
    "print(s[0]) # get char by index\n",
    "print(s[1:3]) # [1,3)\n",
    "print(\"This is a \" + s + \"!\")\n",
    "\n",
    "# handy tools\n",
    "print(s.lower())\n",
    "print(s*4)\n",
    "print(\"ring\" in s)\n",
    "print(s.index(\"ring\"))\n",
    "\n",
    "# slice by delimiter\n",
    "print(\"I am a sentence\".split(\" \"))\n",
    "# concatenate a list of string using a delimiter\n",
    "print(\"...\".join(['a','b','c']))\n",
    "\n",
    "# formatting variables\n",
    "print(\"Formatting a string like %.2f\"%(0.12345)) \n",
    "print(f\"Or like {s}!\")"
   ]
  },
  {
   "cell_type": "code",
   "execution_count": null,
   "metadata": {},
   "outputs": [],
   "source": [
    "# control flows\n",
    "# NOTE: No parentheses or curly braces\n",
    "#       Indentation is used to identify code blocks\n",
    "#       So never ever mix spaces with tabs\n",
    "for i in range(0,5):\n",
    "    for j in range(i, 5):\n",
    "        print(\"inner loop\")\n",
    "    print(\"outer loop\")"
   ]
  },
  {
   "cell_type": "code",
   "execution_count": 11,
   "metadata": {},
   "outputs": [
    {
     "name": "stdout",
     "output_type": "stream",
     "text": [
      "=\n"
     ]
    }
   ],
   "source": [
    "# if-else\n",
    "var = 10\n",
    "if var > 10:\n",
    "    print(\">\")\n",
    "elif var == 10:\n",
    "    print(\"=\")\n",
    "else:\n",
    "    print(\"<\")"
   ]
  },
  {
   "cell_type": "code",
   "execution_count": 12,
   "metadata": {
    "scrolled": true
   },
   "outputs": [
    {
     "name": "stdout",
     "output_type": "stream",
     "text": [
      "object\n"
     ]
    }
   ],
   "source": [
    "# use \"if\" to check null pointer or empty arrays\n",
    "var = None\n",
    "if var: \n",
    "    print(var)\n",
    "var = []\n",
    "if var:\n",
    "    print(var)\n",
    "var = \"object\"\n",
    "if var:\n",
    "    print(var)"
   ]
  },
  {
   "cell_type": "code",
   "execution_count": 13,
   "metadata": {},
   "outputs": [
    {
     "name": "stdout",
     "output_type": "stream",
     "text": [
      "5\n",
      "4\n",
      "3\n",
      "2\n",
      "1\n"
     ]
    }
   ],
   "source": [
    "# while-loop\n",
    "var = 5\n",
    "while var > 0:\n",
    "    print(var)\n",
    "    var -=1"
   ]
  },
  {
   "cell_type": "code",
   "execution_count": 14,
   "metadata": {},
   "outputs": [
    {
     "name": "stdout",
     "output_type": "stream",
     "text": [
      "0\n",
      "1\n",
      "2\n",
      "-------\n",
      "2\n",
      "0\n",
      "-2\n"
     ]
    },
    {
     "data": {
      "text/plain": [
       "'\\nequivalent to\\nfor (int i = 2; i > -3; i-=2)\\n'"
      ]
     },
     "execution_count": 14,
     "metadata": {},
     "output_type": "execute_result"
    }
   ],
   "source": [
    "# for-loop\n",
    "for i in range(3):  # prints 0 1 2\n",
    "    print(i)\n",
    "    \n",
    "\"\"\"\n",
    "equivalent to\n",
    "for (int i = 0; i < 3; i++)\n",
    "\"\"\"\n",
    "print(\"-------\")\n",
    "# range (start-inclusive, stop-exclusive, step)\n",
    "for i in range(2, -3, -2): \n",
    "    print(i)\n",
    "\"\"\"\n",
    "equivalent to\n",
    "for (int i = 2; i > -3; i-=2)\n",
    "\"\"\""
   ]
  },
  {
   "cell_type": "code",
   "execution_count": 15,
   "metadata": {},
   "outputs": [
    {
     "data": {
      "text/plain": [
       "4"
      ]
     },
     "execution_count": 15,
     "metadata": {},
     "output_type": "execute_result"
    }
   ],
   "source": [
    "# define function\n",
    "def func(a, b):\n",
    "    return a + b\n",
    "func(1,3)"
   ]
  },
  {
   "cell_type": "code",
   "execution_count": 16,
   "metadata": {},
   "outputs": [
    {
     "data": {
      "text/plain": [
       "False"
      ]
     },
     "execution_count": 16,
     "metadata": {},
     "output_type": "execute_result"
    }
   ],
   "source": [
    "# use default parameters and pass values by parameter name\n",
    "def rangeCheck(a, min_val = 0, max_val=10):\n",
    "    return min_val < a < max_val    # syntactic sugar\n",
    "rangeCheck(5, max_val=4)"
   ]
  },
  {
   "cell_type": "code",
   "execution_count": 17,
   "metadata": {},
   "outputs": [
    {
     "name": "stdout",
     "output_type": "stream",
     "text": [
      "6\n"
     ]
    }
   ],
   "source": [
    "# define class\n",
    "class Foo:\n",
    "    \n",
    "    # optinal constructor\n",
    "    def __init__(self, x):\n",
    "        # first parameter \"self\" for instance reference, like \"this\" in JAVA\n",
    "        self.x = x\n",
    "    \n",
    "    # instance method\n",
    "    def printX(self): # instance reference is required for all function parameters\n",
    "        print(self.x)\n",
    "        \n",
    "    # class methods, most likely you will never need this\n",
    "    @classmethod\n",
    "    def printHello(self):\n",
    "        print(\"hello\")\n",
    "        \n",
    "obj = Foo(6)\n",
    "obj.printX()"
   ]
  },
  {
   "cell_type": "code",
   "execution_count": 18,
   "metadata": {},
   "outputs": [
    {
     "name": "stdout",
     "output_type": "stream",
     "text": [
      "3\n"
     ]
    }
   ],
   "source": [
    "# class inheritance - inherits variables and methods\n",
    "# You might need this when you learn more PyTorch\n",
    "class Bar(Foo):\n",
    "    pass\n",
    "obj = Bar(3)\n",
    "obj.printX()"
   ]
  },
  {
   "cell_type": "markdown",
   "metadata": {},
   "source": [
    "### 3. Iterables"
   ]
  },
  {
   "cell_type": "code",
   "execution_count": 19,
   "metadata": {},
   "outputs": [
    {
     "name": "stdout",
     "output_type": "stream",
     "text": [
      "0\n"
     ]
    }
   ],
   "source": [
    "alist = list()  # linear, size not fixed, not hashable\n",
    "atuple = tuple() # linear, fixed size, hashable\n",
    "adict = dict()  # hash table, not hashable, stores (key,value) pairs\n",
    "aset = set()    # hash table, like dict but only stores keys\n",
    "acopy = alist.copy() # shallow copy\n",
    "print(len(alist)) # gets size of any iterable type"
   ]
  },
  {
   "cell_type": "code",
   "execution_count": 20,
   "metadata": {},
   "outputs": [
    {
     "ename": "TypeError",
     "evalue": "unhashable type: 'list'",
     "traceback": [
      "\u001b[1;31m---------------------------------------------------------------------------\u001b[0m",
      "\u001b[1;31mTypeError\u001b[0m                                 Traceback (most recent call last)",
      "\u001b[1;32m<ipython-input-20-47597361a541>\u001b[0m in \u001b[0;36m<module>\u001b[1;34m\u001b[0m\n\u001b[0;32m      3\u001b[0m \u001b[0md\u001b[0m \u001b[1;33m=\u001b[0m \u001b[0mdict\u001b[0m\u001b[1;33m(\u001b[0m\u001b[1;33m)\u001b[0m\u001b[1;33m\u001b[0m\u001b[1;33m\u001b[0m\u001b[0m\n\u001b[0;32m      4\u001b[0m \u001b[0md\u001b[0m\u001b[1;33m[\u001b[0m\u001b[1;33m(\u001b[0m\u001b[1;34m\"a\"\u001b[0m\u001b[1;33m,\u001b[0m\u001b[1;34m\"cat\"\u001b[0m\u001b[1;33m)\u001b[0m\u001b[1;33m]\u001b[0m \u001b[1;33m=\u001b[0m \u001b[1;36m10\u001b[0m\u001b[1;33m\u001b[0m\u001b[1;33m\u001b[0m\u001b[0m\n\u001b[1;32m----> 5\u001b[1;33m \u001b[0md\u001b[0m\u001b[1;33m[\u001b[0m\u001b[1;33m[\u001b[0m\u001b[1;34m\"a\"\u001b[0m\u001b[1;33m,\u001b[0m\u001b[1;34m\"cat\"\u001b[0m\u001b[1;33m]\u001b[0m\u001b[1;33m]\u001b[0m \u001b[1;33m=\u001b[0m \u001b[1;36m11\u001b[0m\u001b[1;33m\u001b[0m\u001b[1;33m\u001b[0m\u001b[0m\n\u001b[0m",
      "\u001b[1;31mTypeError\u001b[0m: unhashable type: 'list'"
     ],
     "output_type": "error"
    }
   ],
   "source": [
    "# examplar tuple usage\n",
    "# creating a dictionary to store ngram counts\n",
    "d = dict()\n",
    "d[(\"a\",\"cat\")] = 10\n",
    "d[[\"a\",\"cat\"]] = 11"
   ]
  },
  {
   "cell_type": "code",
   "execution_count": 21,
   "metadata": {},
   "outputs": [
    {
     "name": "stdout",
     "output_type": "stream",
     "text": [
      "1\n",
      "[5, 2, 3, 4, 5]\n",
      "----------\n",
      "5\n",
      "4\n",
      "[4, 5]\n",
      "[5, 2, 3]\n",
      "[3, 4]\n",
      "[]\n",
      "[5, 4, 3, 2, 5]\n",
      "----------\n",
      "[2, 3, 4, 5, 'new item', 2, 3, 4]\n",
      "----------\n",
      "found\n",
      "----------\n",
      "2\n",
      "3\n",
      "4\n",
      "5\n",
      "new item\n",
      "2\n",
      "3\n",
      "4\n",
      "----------\n",
      "0 2\n",
      "1 3\n",
      "2 4\n",
      "3 5\n",
      "4 new item\n",
      "5 2\n",
      "6 3\n",
      "7 4\n"
     ]
    }
   ],
   "source": [
    "\"\"\"\n",
    "List: not hashable (i.e. can't use as dictionary key)\n",
    "      dynamic size\n",
    "      allows duplicates and inconsistent element types\n",
    "      dynamic array implementation\n",
    "\"\"\"\n",
    "# list creation\n",
    "alist = []          # empty list, equivalent to list()\n",
    "alist = [1,2,3,4,5] # initialized list\n",
    "\n",
    "print(alist[0])\n",
    "alist[0] = 5\n",
    "print(alist)\n",
    "\n",
    "print(\"-\"*10)\n",
    "# list indexing\n",
    "print(alist[0]) # get first element (at index 0)\n",
    "print(alist[-2]) # get last element (at index len-1)\n",
    "print(alist[3:]) # get elements starting from index 3 (inclusive)\n",
    "print(alist[:3]) # get elements stopping at index 3 (exclusive)\n",
    "print(alist[2:4]) # get elements within index range [2,4)\n",
    "print(alist[6:]) # prints nothing because index is out of range\n",
    "print(alist[::-1]) # returns a reversed list\n",
    "\n",
    "print(\"-\"*10)\n",
    "# list modification\n",
    "alist.append(\"new item\") # insert at end\n",
    "alist.insert(0, \"new item\") # insert at index 0\n",
    "alist.extend([2,3,4]) # concatenate lists\n",
    "# above line is equivalent to alist += [2,3,4]\n",
    "alist.index(\"new item\") # search by content\n",
    "alist.remove(\"new item\") # remove by content\n",
    "alist.pop(0) # remove by index\n",
    "print(alist)\n",
    "\n",
    "print(\"-\"*10)\n",
    "if \"new item\" in alist:\n",
    "    print(\"found\")\n",
    "else:\n",
    "    print(\"not found\")\n",
    "\n",
    "print(\"-\"*10)\n",
    "# list traversal\n",
    "for ele in alist:\n",
    "    print(ele)\n",
    "\n",
    "print(\"-\"*10)\n",
    "# or traverse with index\n",
    "for i, ele in enumerate(alist):\n",
    "    print(i, ele)"
   ]
  },
  {
   "cell_type": "code",
   "execution_count": 22,
   "metadata": {},
   "outputs": [],
   "source": [
    "\"\"\"\n",
    "Tuple: hashable (i.e. can use as dictionary key)\n",
    "       fixed size (no insertion or deletion)\n",
    "\"\"\"\n",
    "# it does not make sense to create empty tuples\n",
    "atuple = (1,2,3,4,5) \n",
    " # or you can cast other iterables to tuple\n",
    "atuple = tuple([1,2,3])\n",
    "\n",
    "# indexing and traversal are same as list"
   ]
  },
  {
   "cell_type": "code",
   "execution_count": 23,
   "metadata": {},
   "outputs": [
    {
     "name": "stdout",
     "output_type": "stream",
     "text": [
      "1.0 5.0\n"
     ]
    }
   ],
   "source": [
    "\"\"\"\n",
    "Named tuples for readibility\n",
    "\"\"\"\n",
    "from collections import namedtuple\n",
    "Point = namedtuple('Point', 'x y')\n",
    "pt1 = Point(1.0, 5.0)\n",
    "pt2 = Point(2.5, 1.5)\n",
    "print(pt1.x, pt1.y)"
   ]
  },
  {
   "cell_type": "code",
   "execution_count": 24,
   "metadata": {},
   "outputs": [
    {
     "name": "stdout",
     "output_type": "stream",
     "text": [
      "{'a': 1, 'b': 2, 'c': 3}\n",
      "dict_keys(['a', 'b', 'c'])\n",
      "1\n",
      "----------\n",
      "a 1\n",
      "b 2\n",
      "c 3\n",
      "e 5\n",
      "----------\n",
      "a 1\n",
      "b 2\n",
      "c 3\n",
      "e 5\n",
      "----------\n",
      "5\n"
     ]
    }
   ],
   "source": [
    "\"\"\"\n",
    "Dict: not hashable \n",
    "      dynamic size\n",
    "      no duplicates allowed\n",
    "      hash table implementation which is fast for searching\n",
    "\"\"\"\n",
    "# dict creation\n",
    "adict = {} # empty dict, equivalent to dict()\n",
    "adict = {'a':1, 'b':2, 'c':3}\n",
    "print(adict)\n",
    "\n",
    "# get all keys in dictionary\n",
    "print(adict.keys())\n",
    "\n",
    "# get value paired with key\n",
    "print(adict['a'])\n",
    "key = 'e'\n",
    "\n",
    "# NOTE: accessing keys not in the dictionary leads to exception\n",
    "if key in adict:\n",
    "    print(adict[key])\n",
    "    \n",
    "# add or modify dictionary entries\n",
    "adict['e'] = 10 # insert new key\n",
    "adict['e'] = 5  # modify existing keys\n",
    "\n",
    "print(\"-\"*10)\n",
    "# traverse keys only\n",
    "for key in adict:\n",
    "    print(key, adict[key])\n",
    "\n",
    "print(\"-\"*10)\n",
    "# or traverse key-value pairs together\n",
    "for key, value in adict.items():\n",
    "    print(key, value)\n",
    "\n",
    "print(\"-\"*10)\n",
    "# NOTE: Checking if a key exists\n",
    "key = 'e'\n",
    "if key in adict: # NO .keys() here please!\n",
    "    print(adict[key])\n",
    "else:\n",
    "    print(\"Not found!\")"
   ]
  },
  {
   "cell_type": "code",
   "execution_count": 25,
   "metadata": {},
   "outputs": [
    {
     "name": "stdout",
     "output_type": "stream",
     "text": [
      "[1, 2, 3, 4]\n",
      "feline\n",
      "unknown\n"
     ]
    }
   ],
   "source": [
    "\"\"\"\n",
    "Special dictionaries \n",
    "\"\"\"\n",
    "# set is a dictionary without values\n",
    "aset = set()\n",
    "aset.add('a')\n",
    "\n",
    "# deduplication short-cut using set\n",
    "alist = [1,2,3,3,3,4,3]\n",
    "alist = list(set(alist))\n",
    "print(alist)\n",
    "\n",
    "# default_dictionary returns a value computed from a default function\n",
    "#     for non-existent entries\n",
    "from collections import defaultdict\n",
    "adict = defaultdict(lambda: 'unknown')\n",
    "adict['cat'] = 'feline'\n",
    "print(adict['cat'])\n",
    "print(adict['dog'])"
   ]
  },
  {
   "cell_type": "code",
   "execution_count": 26,
   "metadata": {},
   "outputs": [
    {
     "name": "stdout",
     "output_type": "stream",
     "text": [
      "Counter({'t': 11, 'e': 1})\n",
      "----------\n",
      "Counter({'e': 4, 't': 4, ' ': 3, 'o': 2, 'l': 1, 'r': 1, 's': 1, 'b': 1, 'c': 1, 'u': 1, 'n': 1, 'd': 1})\n",
      "----------\n",
      "1 Counter({'t': 15, 'e': 5, ' ': 3, 'o': 2, 'l': 1, 'r': 1, 's': 1, 'b': 1, 'c': 1, 'u': 1, 'n': 1, 'd': 1})\n",
      "2, Counter({'t': 7})\n",
      "3 Counter({'t': 11, 'e': 1})\n"
     ]
    }
   ],
   "source": [
    "# counter is a dictionary with default value of 0\n",
    "#     and provides handy iterable counting tools\n",
    "from collections import Counter\n",
    "\n",
    "# initialize and modify empty counter\n",
    "counter1 = Counter()\n",
    "counter1['t'] = 10\n",
    "counter1['t'] += 1\n",
    "counter1['e'] += 1\n",
    "print(counter1)\n",
    "print(\"-\"*10)\n",
    "\n",
    "# initialize counter from iterable\n",
    "counter2 = Counter(\"letters to be counted\")\n",
    "print(counter2)\n",
    "print(\"-\"*10)\n",
    "\n",
    "# computations using counters\n",
    "print(\"1\", counter1 + counter2)\n",
    "print(\"2,\", counter1 - counter2)\n",
    "print(\"3\", counter1 or counter2) # or for intersection, and for union"
   ]
  },
  {
   "cell_type": "code",
   "execution_count": 27,
   "metadata": {},
   "outputs": [
    {
     "name": "stdout",
     "output_type": "stream",
     "text": [
      "[0, 1, 1, 4, 5, 6, 7, 8, 9]\n",
      "[9, 8, 7, 6, 5, 4, 1, 1, 0]\n"
     ]
    }
   ],
   "source": [
    "# sorting\n",
    "a = [4,6,1,7,0,5,1,8,9]\n",
    "a = sorted(a)\n",
    "print(a)\n",
    "a = sorted(a, reverse=True)\n",
    "print(a)"
   ]
  },
  {
   "cell_type": "code",
   "execution_count": 28,
   "metadata": {},
   "outputs": [
    {
     "name": "stdout",
     "output_type": "stream",
     "text": [
      "[('bird', 2), ('cat', 1), ('dog', 3)]\n",
      "[('cat', 1), ('bird', 2), ('dog', 3)]\n"
     ]
    }
   ],
   "source": [
    "# sorting\n",
    "a = [(\"cat\",1), (\"dog\", 3), (\"bird\", 2)]\n",
    "a = sorted(a)\n",
    "print(a)\n",
    "a = sorted(a, key=lambda x:x[1])\n",
    "print(a)"
   ]
  },
  {
   "cell_type": "code",
   "execution_count": 29,
   "metadata": {},
   "outputs": [
    {
     "name": "stdout",
     "output_type": "stream",
     "text": [
      "[('bird', 1), ('cat', 3)]\n"
     ]
    }
   ],
   "source": [
    "# useful in dictionary sorting\n",
    "adict = {'cat':3, 'bird':1}\n",
    "print(sorted(adict.items(), key=lambda x:x[1]))"
   ]
  },
  {
   "cell_type": "code",
   "execution_count": 30,
   "metadata": {},
   "outputs": [
    {
     "name": "stdout",
     "output_type": "stream",
     "text": [
      "[['i', 'am', 'good'], ['a', 'beautiful', 'day'], ['hello', 'friend']]\n",
      "[['a', 'beautiful', 'day'], ['hello', 'friend']]\n"
     ]
    }
   ],
   "source": [
    "# Syntax sugar: one-line control flow + list operation\n",
    "sent = [\"i am good\", \"a beautiful day\", \"HELLO FRIEND\"]\n",
    "\"\"\"\n",
    "for i in range(len(sent)):\n",
    "    sent[i] = sent[i].lower().split(\" \")\n",
    "\"\"\" \n",
    "sent1 = [s.lower().split(\" \") for s in sent]\n",
    "print(sent1)\n",
    "\n",
    "sent2 = [s.lower().split(\" \") for s in sent if len(s) > 10]\n",
    "print(sent2)\n",
    "\n",
    "# Use this for deep copy!\n",
    "# copy = [obj.copy() for obj in original]"
   ]
  },
  {
   "cell_type": "code",
   "execution_count": 31,
   "metadata": {},
   "outputs": [
    {
     "name": "stdout",
     "output_type": "stream",
     "text": [
      "----------\n",
      "[1, 1, 1, 1, 1, 1, 1, 1, 1, 1]\n",
      "[[1], [1], [1], [1], [1], [1], [1], [1], [1], [1]]\n",
      "[[1], [], [], [], [], [], [], [], [], []]\n"
     ]
    }
   ],
   "source": [
    "# Syntax sugar: * operator for repeating iterable elements\n",
    "print(\"-\"*10)\n",
    "print([1]*10)\n",
    "\n",
    "# Note: This only repeating by value\n",
    "#       So you cannot apply the trick on reference types\n",
    "\n",
    "# To create a double list\n",
    "# DONT\n",
    "doublelist = [[]]*10\n",
    "doublelist[0].append(1)\n",
    "print(doublelist)\n",
    "# DO\n",
    "doublelist = [[] for _ in range(10)]\n",
    "doublelist[0].append(1)\n",
    "print(doublelist)"
   ]
  },
  {
   "cell_type": "markdown",
   "metadata": {},
   "source": [
    "### 4. Numpy\n",
    "Very powerful python tool for handling matrices and higher dimensional arrays"
   ]
  },
  {
   "cell_type": "code",
   "execution_count": 32,
   "metadata": {},
   "outputs": [],
   "source": [
    "import numpy as np"
   ]
  },
  {
   "cell_type": "code",
   "execution_count": 33,
   "metadata": {},
   "outputs": [
    {
     "name": "stdout",
     "output_type": "stream",
     "text": [
      "[[1 2]\n",
      " [3 4]\n",
      " [5 6]]\n",
      "(3, 2)\n",
      "[[1. 1. 1. 1.]\n",
      " [1. 1. 1. 1.]\n",
      " [1. 1. 1. 1.]]\n",
      "(3, 4)\n",
      "[[1. 0. 0. 0. 0.]\n",
      " [0. 1. 0. 0. 0.]\n",
      " [0. 0. 1. 0. 0.]\n",
      " [0. 0. 0. 1. 0.]\n",
      " [0. 0. 0. 0. 1.]]\n",
      "(5, 5)\n"
     ]
    }
   ],
   "source": [
    "# create arrays\n",
    "a = np.array([[1,2],[3,4],[5,6]])\n",
    "print(a)\n",
    "print(a.shape)\n",
    "# create all-zero/one arrays\n",
    "b = np.ones((3,4)) # np.zeros((3,4))\n",
    "print(b)\n",
    "print(b.shape)\n",
    "# create identity matrix\n",
    "c = np.eye(5)\n",
    "print(c)\n",
    "print(c.shape)"
   ]
  },
  {
   "cell_type": "code",
   "execution_count": 34,
   "metadata": {},
   "outputs": [
    {
     "name": "stdout",
     "output_type": "stream",
     "text": [
      "[0 1 2 3 4 5 6 7]\n",
      "[[0 1]\n",
      " [2 3]\n",
      " [4 5]\n",
      " [6 7]]\n"
     ]
    }
   ],
   "source": [
    "# reshaping arrays\n",
    "a = np.arange(8)         # [8,] similar range() you use in for-loops\n",
    "b = a.reshape((4,2))     # shape [4,2]\n",
    "c = a.reshape((2,2,-1))  # shape [2,2,2] -- -1 for auto-fill\n",
    "d = c.flatten()          # shape [8,]\n",
    "e = np.expand_dims(a, 0) # [1,8]\n",
    "f = np.expand_dims(a, 1) # [8,1]\n",
    "g = e.squeeze()          # shape[8, ]    -- remove all unnecessary dimensions\n",
    "print(a)\n",
    "print(b)"
   ]
  },
  {
   "cell_type": "code",
   "execution_count": 35,
   "metadata": {},
   "outputs": [
    {
     "name": "stdout",
     "output_type": "stream",
     "text": [
      "(8, 3)\n",
      "(4, 6)\n"
     ]
    }
   ],
   "source": [
    "# concatenating arrays\n",
    "a = np.ones((4,3))\n",
    "b = np.ones((4,3))\n",
    "c = np.concatenate([a,b], 0)\n",
    "print(c.shape)\n",
    "d = np.concatenate([a,b], 1)\n",
    "print(d.shape)"
   ]
  },
  {
   "cell_type": "code",
   "execution_count": 36,
   "metadata": {},
   "outputs": [
    {
     "name": "stdout",
     "output_type": "stream",
     "text": [
      "(3, 32, 32, 3)\n"
     ]
    }
   ],
   "source": [
    "# one application is to create a batch for NN\n",
    "x1 = np.ones((32,32,3)) \n",
    "x2 = np.ones((32,32,3)) \n",
    "x3 = np.ones((32,32,3)) \n",
    "# --> to create a batch of shape (3,32,32,3)\n",
    "x = [x1, x2, x3]\n",
    "x = [np.expand_dims(xx, 0) for xx in x] # xx shape becomes (1,32,32,3)\n",
    "x = np.concatenate(x, 0)\n",
    "print(x.shape)"
   ]
  },
  {
   "cell_type": "code",
   "execution_count": 37,
   "metadata": {},
   "outputs": [
    {
     "name": "stdout",
     "output_type": "stream",
     "text": [
      "[[3. 3. 3. 1. 1. 1. 1. 1. 1. 1.]\n",
      " [3. 3. 3. 1. 1. 1. 1. 1. 1. 1.]\n",
      " [3. 3. 3. 1. 1. 1. 1. 1. 1. 1.]\n",
      " [2. 2. 2. 0. 0. 0. 0. 0. 0. 0.]\n",
      " [2. 2. 2. 0. 0. 0. 0. 0. 0. 4.]\n",
      " [2. 2. 2. 0. 0. 0. 0. 0. 0. 0.]\n",
      " [2. 2. 2. 4. 0. 0. 0. 0. 0. 0.]\n",
      " [2. 2. 2. 0. 0. 4. 0. 0. 0. 0.]\n",
      " [2. 2. 2. 0. 0. 0. 0. 0. 0. 0.]\n",
      " [2. 2. 2. 0. 0. 0. 0. 0. 0. 0.]]\n"
     ]
    }
   ],
   "source": [
    "# access array slices by index\n",
    "a = np.zeros([10, 10])\n",
    "a[:3] = 1\n",
    "a[:, :3] = 2\n",
    "a[:3, :3] = 3\n",
    "rows = [4,6,7]\n",
    "cols = [9,3,5]\n",
    "a[rows, cols] = 4\n",
    "print(a)"
   ]
  },
  {
   "cell_type": "code",
   "execution_count": 38,
   "metadata": {},
   "outputs": [
    {
     "name": "stdout",
     "output_type": "stream",
     "text": [
      "(2, 3, 4)\n",
      "[[[ 0  1  2  3]\n",
      "  [ 4  5  6  7]\n",
      "  [ 8  9 10 11]]\n",
      "\n",
      " [[12 13 14 15]\n",
      "  [16 17 18 19]\n",
      "  [20 21 22 23]]]\n",
      "(4, 3, 2)\n",
      "[[[ 0 12]\n",
      "  [ 4 16]\n",
      "  [ 8 20]]\n",
      "\n",
      " [[ 1 13]\n",
      "  [ 5 17]\n",
      "  [ 9 21]]\n",
      "\n",
      " [[ 2 14]\n",
      "  [ 6 18]\n",
      "  [10 22]]\n",
      "\n",
      " [[ 3 15]\n",
      "  [ 7 19]\n",
      "  [11 23]]]\n"
     ]
    }
   ],
   "source": [
    "# transposition\n",
    "a = np.arange(24).reshape(2,3,4)\n",
    "print(a.shape)\n",
    "print(a)\n",
    "a = np.transpose(a, (2,1,0)) # swap 0th and 2nd axes\n",
    "print(a.shape)\n",
    "print(a)"
   ]
  },
  {
   "cell_type": "code",
   "execution_count": 39,
   "metadata": {},
   "outputs": [
    {
     "name": "stdout",
     "output_type": "stream",
     "text": [
      "[[-2.   1. ]\n",
      " [ 1.5 -0.5]]\n",
      "5.477225575051661\n",
      "10\n",
      "[[1 2]\n",
      " [3 4]]\n",
      "[4 6]\n",
      "[3 7]\n"
     ]
    }
   ],
   "source": [
    "c = np.array([[1,2],[3,4]])\n",
    "# pinv is pseudo inversion for stability\n",
    "print(np.linalg.pinv(c))\n",
    "# l2 norm by default, read documentation for more options\n",
    "print(np.linalg.norm(c))\n",
    "# summing a matrix\n",
    "print(np.sum(c))\n",
    "# the optional axis parameter\n",
    "print(c)\n",
    "print(np.sum(c, axis=0)) # sum along axis 0\n",
    "print(np.sum(c, axis=1)) # sum along axis 1"
   ]
  },
  {
   "cell_type": "code",
   "execution_count": 40,
   "metadata": {
    "scrolled": true
   },
   "outputs": [
    {
     "name": "stdout",
     "output_type": "stream",
     "text": [
      "11\n"
     ]
    }
   ],
   "source": [
    "# dot product\n",
    "c = np.array([1,2])\n",
    "d = np.array([3,4])\n",
    "print(np.dot(c,d))"
   ]
  },
  {
   "cell_type": "code",
   "execution_count": 41,
   "metadata": {},
   "outputs": [
    {
     "name": "stdout",
     "output_type": "stream",
     "text": [
      "[[3. 3.]\n",
      " [3. 3.]\n",
      " [3. 3.]\n",
      " [3. 3.]]\n",
      "[[4. 4.]\n",
      " [5. 5.]\n",
      " [6. 6.]\n",
      " [7. 7.]]\n",
      "(3, 10)\n"
     ]
    }
   ],
   "source": [
    "# matrix multiplication\n",
    "a = np.ones((4,3)) # 4,3\n",
    "b = np.ones((3,2)) # 3,2 --> 4,2\n",
    "print(a @ b)       # same as a.dot(b)\n",
    "c = a @ b          # (4,2)\n",
    "\n",
    "# automatic repetition along axis\n",
    "d = np.array([1,2,3,4]).reshape(4,1)\n",
    "print(c + d)\n",
    "# handy for batch operation\n",
    "batch = np.ones((3,32))\n",
    "weight = np.ones((32,10))\n",
    "bias = np.ones((1,10))\n",
    "print((batch @ weight + bias).shape)"
   ]
  },
  {
   "cell_type": "code",
   "execution_count": 42,
   "metadata": {},
   "outputs": [
    {
     "name": "stdout",
     "output_type": "stream",
     "text": [
      "numpy spends 0.001990079879760742 seconds\n",
      "list operation spends 8.681961059570312 seconds\n"
     ]
    }
   ],
   "source": [
    "# speed test: numpy vs list\n",
    "a = np.ones((100,100))\n",
    "b = np.ones((100,100))\n",
    "\n",
    "def matrix_multiplication(X, Y):\n",
    "    result = [[0]*len(Y[0]) for _ in range(len(X))]\n",
    "    for i in range(len(X)):\n",
    "        for j in range(len(Y[0])):\n",
    "            for k in range(len(Y)):\n",
    "                result[i][j] += X[i][k] * Y[k][j]\n",
    "    return result\n",
    "\n",
    "import time\n",
    "\n",
    "# run numpy matrix multiplication for 10 times\n",
    "start = time.time()\n",
    "for _ in range(10):\n",
    "    a @ b\n",
    "end = time.time()\n",
    "print(\"numpy spends {} seconds\".format(end-start))\n",
    "\n",
    "# run list matrix multiplication for 10 times\n",
    "start = time.time()\n",
    "for _ in range(10):\n",
    "    matrix_multiplication(a,b)\n",
    "end = time.time()\n",
    "print(\"list operation spends {} seconds\".format(end-start))\n",
    "\n",
    "# the difference gets more significant as matrices grow in size!"
   ]
  },
  {
   "cell_type": "code",
   "execution_count": 43,
   "metadata": {},
   "outputs": [
    {
     "data": {
      "text/plain": [
       "array([[3., 3., 3., ..., 3., 3., 3.],\n",
       "       [3., 3., 3., ..., 3., 3., 3.],\n",
       "       [3., 3., 3., ..., 3., 3., 3.],\n",
       "       ...,\n",
       "       [3., 3., 3., ..., 3., 3., 3.],\n",
       "       [3., 3., 3., ..., 3., 3., 3.],\n",
       "       [3., 3., 3., ..., 3., 3., 3.]])"
      ]
     },
     "execution_count": 43,
     "metadata": {},
     "output_type": "execute_result"
    }
   ],
   "source": [
    "# element-wise operations, for examples\n",
    "np.log(a)\n",
    "np.exp(a)\n",
    "np.sin(a)\n",
    "# operation with scalar is interpreted as element-wise\n",
    "a * 3 "
   ]
  },
  {
   "cell_type": "markdown",
   "metadata": {},
   "source": [
    "### 5. Matplotlib\n",
    "Powerful tool for visualization <br/>\n",
    "Many tutorials online. We only go over the basics here <br/>"
   ]
  },
  {
   "cell_type": "code",
   "execution_count": 44,
   "metadata": {},
   "outputs": [],
   "source": [
    "import matplotlib.pyplot as plt"
   ]
  },
  {
   "cell_type": "code",
   "execution_count": 45,
   "metadata": {
    "scrolled": true
   },
   "outputs": [
    {
     "data": {
      "text/plain": [
       "[<matplotlib.lines.Line2D at 0x17b1b50a040>]"
      ]
     },
     "execution_count": 45,
     "metadata": {},
     "output_type": "execute_result"
    },
    {
     "data": {
      "image/png": "[encoded data removed]",
      "text/plain": [
       "<Figure size 432x288 with 1 Axes>"
      ]
     },
     "metadata": {
      "needs_background": "light"
     },
     "output_type": "display_data"
    }
   ],
   "source": [
    "# line plot\n",
    "x = [1,2,3]\n",
    "y = [1,3,2]\n",
    "plt.plot(x,y)"
   ]
  },
  {
   "cell_type": "code",
   "execution_count": 46,
   "metadata": {},
   "outputs": [
    {
     "data": {
      "text/plain": [
       "<matplotlib.collections.PathCollection at 0x17b1b530490>"
      ]
     },
     "execution_count": 46,
     "metadata": {},
     "output_type": "execute_result"
    },
    {
     "data": {
      "image/png": "[encoded data removed]",
      "text/plain": [
       "<Figure size 432x288 with 1 Axes>"
      ]
     },
     "metadata": {
      "needs_background": "light"
     },
     "output_type": "display_data"
    }
   ],
   "source": [
    "# scatter plot\n",
    "plt.scatter(x,y)"
   ]
  },
  {
   "cell_type": "code",
   "execution_count": 47,
   "metadata": {},
   "outputs": [
    {
     "data": {
      "text/plain": [
       "<BarContainer object of 3 artists>"
      ]
     },
     "execution_count": 47,
     "metadata": {},
     "output_type": "execute_result"
    },
    {
     "data": {
      "image/png": "[encoded data removed]",
      "text/plain": [
       "<Figure size 432x288 with 1 Axes>"
      ]
     },
     "metadata": {
      "needs_background": "light"
     },
     "output_type": "display_data"
    }
   ],
   "source": [
    "# bar plots\n",
    "plt.bar(x,y)"
   ]
  },
  {
   "cell_type": "code",
   "execution_count": 48,
   "metadata": {},
   "outputs": [
    {
     "data": {
      "text/plain": [
       "<matplotlib.legend.Legend at 0x17b1b669d00>"
      ]
     },
     "execution_count": 48,
     "metadata": {},
     "output_type": "execute_result"
    },
    {
     "data": {
      "image/png": "[encoded data removed]",
      "text/plain": [
       "<Figure size 360x360 with 1 Axes>"
      ]
     },
     "metadata": {
      "needs_background": "light"
     },
     "output_type": "display_data"
    }
   ],
   "source": [
    "# plot configurations\n",
    "x = [1,2,3]\n",
    "y1 = [1,3,2]\n",
    "y2 = [4,0,4]\n",
    "\n",
    "# set figure size\n",
    "plt.figure(figsize=(5,5))\n",
    "\n",
    "# set axes\n",
    "plt.xlim(0,5)\n",
    "plt.ylim(0,5)\n",
    "plt.xlabel(\"x label\")\n",
    "plt.ylabel(\"y label\")\n",
    "\n",
    "# add title\n",
    "plt.title(\"My Plot\")\n",
    "\n",
    "plt.plot(x,y1, label=\"data1\", color=\"red\", marker=\"*\")\n",
    "plt.plot(x,y2, label=\"data2\", color=\"green\", marker=\".\")\n",
    "plt.legend()"
   ]
  },
  {
   "cell_type": "markdown",
   "metadata": {},
   "source": [
    "### Q&A"
   ]
  },
  {
   "cell_type": "code",
   "execution_count": null,
   "metadata": {},
   "outputs": [],
   "source": []
  }
 ],
 "metadata": {
  "kernelspec": {
   "display_name": "Python 3",
   "language": "python",
   "name": "python3"
  },
  "language_info": {
   "codemirror_mode": {
    "name": "ipython",
    "version": 3
   },
   "file_extension": ".py",
   "mimetype": "text/x-python",
   "name": "python",
   "nbconvert_exporter": "python",
   "pygments_lexer": "ipython3",
   "version": "3.8.5"
  }
 },
 "nbformat": 4,
 "nbformat_minor": 4
}
