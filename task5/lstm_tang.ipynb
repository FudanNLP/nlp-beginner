{
 "metadata": {
  "language_info": {
   "codemirror_mode": {
    "name": "ipython",
    "version": 3
   },
   "file_extension": ".py",
   "mimetype": "text/x-python",
   "name": "python",
   "nbconvert_exporter": "python",
   "pygments_lexer": "ipython3",
   "version": "3.7.9"
  },
  "orig_nbformat": 2,
  "kernelspec": {
   "name": "python3",
   "display_name": "Python 3.7.9 64-bit ('cs224n': conda)",
   "metadata": {
    "interpreter": {
     "hash": "976ac0e44a77ecebd9924796002391647c6712319b88e0f45a893d4da7082770"
    }
   }
  }
 },
 "nbformat": 4,
 "nbformat_minor": 2,
 "cells": [
  {
   "cell_type": "code",
   "execution_count": 1,
   "metadata": {},
   "outputs": [
    {
     "output_type": "execute_result",
     "data": {
      "text/plain": [
       "<torch._C.Generator at 0x24fbd70fa50>"
      ]
     },
     "metadata": {},
     "execution_count": 1
    }
   ],
   "source": [
    "import os\n",
    "import re\n",
    "import time\n",
    "import torch\n",
    "import torch.nn as nn\n",
    "import torch.optim as optim\n",
    "import numpy\n",
    "import torch.nn.functional as F\n",
    "from torch.nn.utils.rnn import pack_padded_sequence\n",
    "import pandas as pd\n",
    "import matplotlib.pyplot as plt\n",
    "from sklearn.model_selection import train_test_split\n",
    "\n",
    "torch.manual_seed(1)"
   ]
  },
  {
   "cell_type": "code",
   "execution_count": 32,
   "metadata": {
    "tags": []
   },
   "outputs": [
    {
     "output_type": "stream",
     "name": "stdout",
     "text": [
      "巴山上峡重复重，阳台碧峭十二峰。荆王猎时逢暮雨，夜卧高丘梦神女。轻红流烟湿艳姿，行云飞去明星稀。目极\n['巴', '山', '上', '峡', '重', '复', '重', '<rest>', '阳', '台', '碧', '峭', '十', '二', '峰', '<rest>', '荆', '王', '猎', '时', '逢', '暮', '雨', '<rest>', '夜', '卧', '高', '丘', '梦', '神', '女', '<rest>', '轻', '红', '流', '烟', '湿', '艳', '姿', '<rest>', '行', '云', '飞', '去', '明', '星', '稀', '<rest>', '目', '极']\n15776 12620 3156\n['巴', '山', '上', '峡', '重']\n"
     ]
    }
   ],
   "source": [
    "#Let's get the data\n",
    "def load_data(path=\"../data/poetryFromTang.txt\", length=5020):\n",
    "    df = pd.read_csv(path, names=[\"_\"])[:length].values\n",
    "    from itertools import chain\n",
    "    s = sum(df, [])\n",
    "    return ''.join(list(zip(*df))[0])\n",
    "\n",
    "x = load_data(\"../data/poetryFromTang.txt\")\n",
    "\n",
    "print(x[:50])\n",
    "\n",
    "def clean_text(x):\n",
    "  x = [re.sub(r'[。，]+', '<rest>', i) for i in x]\n",
    "  return x\n",
    "\n",
    "x = clean_text(x)\n",
    "\n",
    "print(x[:50])\n",
    "\n",
    "x_train, x_val= train_test_split(x, test_size=0.2)\n",
    "\n",
    "print(len(x), len(x_train), len(x_val))\n",
    "print(x[:5])"
   ]
  },
  {
   "cell_type": "code",
   "execution_count": null,
   "metadata": {},
   "outputs": [],
   "source": []
  }
 ]
}