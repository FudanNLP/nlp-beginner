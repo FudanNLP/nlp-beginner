{
 "metadata": {
  "language_info": {
   "codemirror_mode": {
    "name": "ipython",
    "version": 3
   },
   "file_extension": ".py",
   "mimetype": "text/x-python",
   "name": "python",
   "nbconvert_exporter": "python",
   "pygments_lexer": "ipython3",
   "version": "3.8.5-final"
  },
  "orig_nbformat": 2,
  "kernelspec": {
   "name": "python3",
   "display_name": "Python 3.8.5 64-bit",
   "metadata": {
    "interpreter": {
     "hash": "1ee38ef4a5a9feb55287fd749643f13d043cb0a7addaab2a9c224cbe137c0062"
    }
   }
  }
 },
 "nbformat": 4,
 "nbformat_minor": 2,
 "cells": [
  {
   "cell_type": "code",
   "execution_count": 16,
   "metadata": {},
   "outputs": [
    {
     "output_type": "execute_result",
     "data": {
      "text/plain": [
       "<torch._C.Generator at 0x10b066fd0>"
      ]
     },
     "metadata": {},
     "execution_count": 16
    }
   ],
   "source": [
    "import os\n",
    "import re\n",
    "import torch\n",
    "import torch.nn as nn\n",
    "import torch.optim as optim\n",
    "import numpy\n",
    "import torch.nn.functional as F\n",
    "import pandas as pd\n",
    "import matplotlib.pyplot as plt\n",
    "\n",
    "torch.manual_seed(1)"
   ]
  },
  {
   "cell_type": "code",
   "execution_count": 17,
   "metadata": {},
   "outputs": [
    {
     "output_type": "stream",
     "name": "stdout",
     "text": [
      "['a series of escapades demonstrating the adage that what is good for the goose is also good for the gander some of which occasionally amuses but none of which amounts to much of a story ', 'a series of escapades demonstrating the adage that what is good for the goose', 'a series', 'a', 'series'] [1 2 2 2 2]\n"
     ]
    }
   ],
   "source": [
    "def load_data(path=\"../train.tsv\", length=500):\n",
    "    df = pd.read_csv(path, sep=\"\\t\")[:length]\n",
    "    df.drop(['PhraseId','SentenceId'], axis=1, inplace=True)\n",
    "    x, y = df[\"Phrase\"].values, df[\"Sentiment\"].values\n",
    "    return (x, y)\n",
    "\n",
    "x, y = load_data(\"../train.tsv\", 500)\n",
    "\n",
    "def clean_text(x):\n",
    "  # Removes special symbols and just keep\n",
    "  # words in lower or upper form\n",
    "  \n",
    "  x = [i.lower() for i in x]\n",
    "  x = [re.sub(r'[^A-Za-z]+', ' ', i) for i in x]\n",
    "  \n",
    "  return x\n",
    "\n",
    "x = clean_text(x)\n",
    "print(x[:5], y[:5])"
   ]
  },
  {
   "cell_type": "code",
   "execution_count": 29,
   "metadata": {},
   "outputs": [
    {
     "output_type": "stream",
     "name": "stdout",
     "text": [
      "{'dizzily': 0, 'joy': 1, 'should': 2, 'entertaining': 3, 'independent': 4, 'considers': 5, 'shakespearean': 6, 'pow': 7, 'despite': 8, 'unless': 9, 'i': 10, 'nearly': 11, 'still': 12, 'goose': 13, 'demonstrating': 14, 'proportions': 15, 'midlife': 16, 'serious': 17, 'remain': 18, 'sweet': 19, 'wong': 20, 'mainland': 21, 'mythic': 22, 'a': 23, 'dialogue': 24, 'sometimes': 25, 'quiet': 26, 'ways': 27, 'performance': 28, 'oedekerk': 29, 'or': 30, 'character': 31, 'juicy': 32, 'would': 33, 'mood': 34, 'work': 35, 'realization': 36, 'hong': 37, 'love': 38, 'ultimately': 39, 'thick': 40, 'is': 41, 'setting': 42, 'plodding': 43, 'through': 44, 'path': 45, 'reading': 46, 'performances': 47, 'mess': 48, 'all': 49, 'leave': 50, 'dreams': 51, 't': 52, 'movies': 53, 'hilarity': 54, 'are': 55, 'epic': 56, 'day': 57, 'to': 58, 'companion': 59, 'wit': 60, 'good': 61, 'some': 62, 'betrayal': 63, 'whitewash': 64, 'hate': 65, 'little': 66, 'can': 67, 'inspired': 68, 'by': 69, 'sincere': 70, 'who': 71, 'narratively': 72, 'earnest': 73, 'hard': 74, 'familiar': 75, 'escapism': 76, 'arts': 77, 'judgment': 78, 'plays': 79, 'moonlight': 80, 'distort': 81, 'drama': 82, 'relief': 83, 'with': 84, 'ismail': 85, 'off': 86, 'try': 87, 'like': 88, 'there': 89, 'merchant': 90, 'combination': 91, 'an': 92, 'extravagant': 93, 'kong': 94, 'perspective': 95, 'bilingual': 96, 'its': 97, 'importance': 98, 'baseball': 99, 'ethnography': 100, 'none': 101, 'perverse': 102, 'source': 103, 'has': 104, 'gander': 105, 'even': 106, 'opera': 107, 'series': 108, 'kung': 109, 'recommend': 110, 'escapades': 111, 'us': 112, 'manipulative': 113, 'does': 114, 'self': 115, 'something': 116, 'modest': 117, 'also': 118, 'which': 119, 'soap': 120, 'murder': 121, 'the': 122, 'better': 123, 'seeking': 124, 'welcome': 125, 'very': 126, 'of': 127, 'chance': 128, 'suspect': 129, 'quotations': 130, 'every': 131, 'glorification': 132, 'it': 133, 'time': 134, 'fans': 135, 'deceit': 136, 'dream': 137, 'absolute': 138, 'trouble': 139, 'crisis': 140, 'fresnadillo': 141, 'that': 142, 'just': 143, 'positively': 144, 'sense': 145, 'n': 146, 'mile': 147, 'sitting': 148, 'intrigue': 149, 's': 150, 'high': 151, 'flick': 152, 'childhood': 153, 'and': 154, 'our': 155, 'occasionally': 156, 'his': 157, 'but': 158, 'throw': 159, 'youth': 160, 'title': 161, 'could': 162, 'much': 163, 'snow': 164, 'charmer': 165, 'what': 166, 'story': 167, 'martial': 168, 'rooted': 169, 'this': 170, 'same': 171, 'one': 172, 'introspective': 173, 'from': 174, 'be': 175, 'about': 176, 'winning': 177, 'dogs': 178, 'say': 179, 'so': 180, 'damned': 181, 'bartlett': 182, 'mr': 183, 'in': 184, 'cliched': 185, 'proves': 186, 'amuses': 187, 'have': 188, 'woman': 189, 'for': 190, 'too': 191, 'adage': 192, 'worth': 193, 'amounts': 194, 'you': 195, 'aggressive': 196, 'undergoing': 197, 'comedy': 198, 'reason': 199, 'less': 200, 'gorgeous': 201, 'movie': 202, 'thrilling': 203, 'being': 204, 'tragedy': 205}\n"
     ]
    }
   ],
   "source": [
    "def build_dict(x):\n",
    "    ret = []\n",
    "    for i in x:\n",
    "        ret += i.split()\n",
    "    \n",
    "    return list(set(ret))\n",
    "\n",
    "d = build_dict(x)\n",
    "\n",
    "word2inx = {d[i]:i for i in range(len(d))}\n",
    "\n",
    "vocab_size = len(word2inx)\n",
    "\n",
    "n_classes = 5\n",
    "\n",
    "print(word2inx)"
   ]
  },
  {
   "cell_type": "code",
   "execution_count": 47,
   "metadata": {},
   "outputs": [
    {
     "output_type": "stream",
     "name": "stdout",
     "text": [
      "tensor([ 23, 108, 127, 111,  14, 122, 192, 142, 166,  41,  61, 190, 122,  13,\n         41, 118,  61, 190, 122, 105,  62, 127, 119, 156, 187, 158, 101, 127,\n        119, 194,  58, 163, 127,  23, 167]) tensor(1)\n[tensor([ 23, 108, 127, 111,  14, 122, 192, 142, 166,  41,  61, 190, 122,  13,\n         41, 118,  61, 190, 122, 105,  62, 127, 119, 156, 187, 158, 101, 127,\n        119, 194,  58, 163, 127,  23, 167]), tensor([ 23, 108, 127, 111,  14, 122, 192, 142, 166,  41,  61, 190, 122,  13])]\n"
     ]
    }
   ],
   "source": [
    "def sentence2vector(sentence):\n",
    "    v = []\n",
    "    for word in sentence.split():\n",
    "        v.append(word2inx[word])\n",
    "    return torch.tensor(v, dtype=torch.long)\n",
    "\n",
    "\"\"\"\n",
    "def sentiment2target(sentiment):\n",
    "    tmp = torch.zeros(n_classes)\n",
    "    tmp[sentiment] += 1\n",
    "    return tmp\n",
    "\"\"\"\n",
    "\n",
    "test_input = sentence2vector(x[0])\n",
    "#test_target = sentiment2target(y[0])\n",
    "test_target = torch.tensor(y[0], dtype=torch.long)\n",
    "\n",
    "\n",
    "print(test_input, test_target)\n",
    "\n",
    "def get_batch(x, batch_size=2, point=0):\n",
    "    return  [sentence2vector(i) for i in x[point:point+batch_size]]\n",
    "\n",
    "test_batch = get_batch(x)\n",
    "\n",
    "print(test_batch)\n"
   ]
  },
  {
   "cell_type": "code",
   "execution_count": 49,
   "metadata": {},
   "outputs": [
    {
     "output_type": "stream",
     "name": "stdout",
     "text": [
      "tensor([[-1.6168, -1.5143, -1.4933, -1.6957, -1.7520]],\n       grad_fn=<UnsqueezeBackward0>) tensor(1)\n"
     ]
    }
   ],
   "source": [
    "class LSTM(nn.Module):\n",
    "    def __init__(self, embedding_dim, hidden_dim, vocab_size, tagset_size):\n",
    "        super(LSTM, self).__init__()\n",
    "        self.hidden_dim = hidden_dim\n",
    "\n",
    "        self.word_embeddings = nn.Embedding(vocab_size, embedding_dim)\n",
    "        self.lstm = nn.LSTM(embedding_dim, hidden_dim)\n",
    "\n",
    "        self.hidden2tag = nn.Linear(hidden_dim, tagset_size)\n",
    "\n",
    "    def forward(self, sentence):\n",
    "        embeds = self.word_embeddings(sentence)\n",
    "        lstm_out, _ = self.lstm(embeds.view(len(sentence), 1, -1))\n",
    "        y_ = self.hidden2tag(lstm_out.view(len(sentence), -1))\n",
    "        predict = F.log_softmax(y_, dim=1)\n",
    "        return predict\n",
    "\n",
    "loss_function = nn.NLLLoss()\n",
    "\n",
    "optimizer = optim.SGD(net.parameters(), lr=0.1)\n",
    "\n",
    "net = LSTM(100, 100, vocab_size, 5)\n",
    "\n",
    "prob = net(test_input)\n",
    "\n",
    "print(prob[-1].unsqueeze(0), test_target)\n",
    "\n",
    "loss = loss_function(prob[-1].unsqueeze(0), test_target.unsqueeze(0))\n",
    "\n",
    "loss.backward()\n",
    "\n",
    "optimizer.step()\n"
   ]
  },
  {
   "cell_type": "code",
   "execution_count": null,
   "metadata": {},
   "outputs": [],
   "source": []
  }
 ]
}