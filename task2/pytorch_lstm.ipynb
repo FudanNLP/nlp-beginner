{
 "metadata": {
  "language_info": {
   "codemirror_mode": {
    "name": "ipython",
    "version": 3
   },
   "file_extension": ".py",
   "mimetype": "text/x-python",
   "name": "python",
   "nbconvert_exporter": "python",
   "pygments_lexer": "ipython3",
   "version": "3.6.8-final"
  },
  "orig_nbformat": 2,
  "kernelspec": {
   "name": "python3",
   "display_name": "Python 3",
   "language": "python"
  }
 },
 "nbformat": 4,
 "nbformat_minor": 2,
 "cells": [
  {
   "cell_type": "code",
   "execution_count": 236,
   "metadata": {},
   "outputs": [
    {
     "output_type": "execute_result",
     "data": {
      "text/plain": [
       "<torch._C.Generator at 0x1dd72b04540>"
      ]
     },
     "metadata": {},
     "execution_count": 236
    }
   ],
   "source": [
    "import os\n",
    "import re\n",
    "import time\n",
    "import torch\n",
    "import torch.nn as nn\n",
    "import torch.optim as optim\n",
    "import numpy\n",
    "import torch.nn.functional as F\n",
    "from torch.nn.utils.rnn import pack_padded_sequence\n",
    "import pandas as pd\n",
    "import matplotlib.pyplot as plt\n",
    "from sklearn.model_selection import train_test_split\n",
    "\n",
    "torch.manual_seed(1)"
   ]
  },
  {
   "cell_type": "code",
   "execution_count": 250,
   "metadata": {},
   "outputs": [
    {
     "output_type": "stream",
     "name": "stdout",
     "text": [
      "4980 3984 996\n",
      "['a series of escapades demonstrating the adage that what is good for the goose is also good for the gander some of which occasionally amuses but none of which amounts to much of a story ', 'a series of escapades demonstrating the adage that what is good for the goose', 'a series', 'a', 'series'] [1, 2, 2, 2, 2]\n"
     ]
    }
   ],
   "source": [
    "def load_data(path=\"../train.tsv\", length=5000):\n",
    "    df = pd.read_csv(path, sep=\"\\t\")[:length]\n",
    "    df.drop(['PhraseId','SentenceId'], axis=1, inplace=True)\n",
    "    x, y = df[\"Phrase\"].values, df[\"Sentiment\"].values\n",
    "    return (x, y)\n",
    "\n",
    "x, y = load_data(\"../train.tsv\")\n",
    "\n",
    "def clean_text(x, y):\n",
    "  x = [i.lower() for i in x]\n",
    "  x = [re.sub(r'[^A-Za-z]+', ' ', i) for i in x]\n",
    "  x_, y_ = [], []\n",
    "  for i in range(len(x)):\n",
    "    if x[i].split():\n",
    "      x_.append(x[i])\n",
    "      y_.append(y[i])\n",
    "  return x_, y_\n",
    "\n",
    "x, y = clean_text(x, y)\n",
    "\n",
    "x_train, x_val, y_train, y_val = train_test_split(x, y, test_size=0.2)\n",
    "\n",
    "print(len(x), len(x_train), len(x_val))\n",
    "print(x[:5], y[:5])"
   ]
  },
  {
   "cell_type": "code",
   "execution_count": 269,
   "metadata": {
    "tags": []
   },
   "outputs": [
    {
     "output_type": "stream",
     "name": "stdout",
     "text": [
      "1459\n"
     ]
    }
   ],
   "source": [
    "def build_dict(x):\n",
    "    ret = []\n",
    "    for i in x:\n",
    "        ret += [j for j in i.split()]\n",
    "    return list(set(ret))\n",
    "\n",
    "d = build_dict(x)\n",
    "\n",
    "word2inx = {d[i]:i for i in range(len(d))}\n",
    "\n",
    "pad_idx = len(word2inx)\n",
    "\n",
    "word2inx[\"padding\"] = pad_idx\n",
    "\n",
    "vocab_size = len(word2inx)\n",
    "\n",
    "n_classes = 5\n",
    "\n",
    "print(len(word2inx))\n"
   ]
  },
  {
   "cell_type": "code",
   "execution_count": 270,
   "metadata": {
    "tags": []
   },
   "outputs": [],
   "source": [
    "batch_size = 64\n",
    "\n",
    "class mydataset(torch.utils.data.Dataset):\n",
    "    def __init__(self, x:torch.Tensor, y:torch.Tensor, length_list):\n",
    "        self.x = x\n",
    "        self.y = y\n",
    "        self.length_list = length_list\n",
    "    def __getitem__(self, index):\n",
    "        data = self.x[index]\n",
    "        labels = self.y[index]\n",
    "        length = self.length_list[index]\n",
    "        return data, labels, length\n",
    "    def __len__(self):\n",
    "        return len(self.x)\n",
    "\n",
    "def sentence2vector(sentence):\n",
    "    return [word2inx[word] for word in sentence.split()]\n",
    "\n",
    "def padding(x, max_length):\n",
    "    length = 0\n",
    "    for i in range(max_length - len(x)):\n",
    "        x.append(word2inx[\"padding\"])\n",
    "    return x\n",
    "\n",
    "def get_dataloader(x, y):\n",
    "    inputs = [sentence2vector(s) for s in x]\n",
    "\n",
    "    length_list = [len(i) for i in inputs]\n",
    "\n",
    "    max_length = max(length_list)\n",
    "\n",
    "    inputs = torch.tensor([padding(s, max_length) for s in inputs])\n",
    "\n",
    "    targets =  torch.tensor(y, dtype=torch.long)\n",
    "\n",
    "    da = mydataset(inputs, targets, length_list)\n",
    "\n",
    "    dataloader = torch.utils.data.DataLoader(dataset, shuffle=False, batch_size=batch_size)\n",
    "\n",
    "    return dataloader\n",
    "\n",
    "\n",
    "train_dataloader = get_dataloader(x_train, y_train)\n",
    "\n",
    "test_dataloader = get_dataloader(x_val, y_val)\n"
   ]
  },
  {
   "cell_type": "code",
   "execution_count": 253,
   "metadata": {
    "tags": []
   },
   "outputs": [
    {
     "output_type": "stream",
     "name": "stdout",
     "text": [
      "tensor([[-2.5913e-01,  1.0747e-02,  2.3679e-02, -1.4752e-01, -3.0481e-02],\n",
      "        [-2.3009e-01,  2.6177e-02,  2.1855e-02, -1.5808e-01, -2.1182e-02],\n",
      "        [-1.9870e-01, -1.7241e-02,  3.5334e-02, -1.2226e-01, -3.3691e-02],\n",
      "        [-1.8063e-01, -1.1752e-02,  3.6020e-02, -9.0894e-02, -8.0283e-03],\n",
      "        [-1.8213e-01, -8.6037e-03,  3.9190e-02, -1.0210e-01, -2.0225e-02],\n",
      "        [-2.2857e-01,  1.9604e-03, -7.2726e-03, -1.3940e-01, -3.1061e-02],\n",
      "        [-1.7550e-01, -2.1461e-02,  3.8015e-02, -1.1112e-01, -2.3064e-02],\n",
      "        [-2.1983e-01, -6.9458e-03,  2.6802e-02, -1.2410e-01, -4.6700e-02],\n",
      "        [-1.7274e-01, -2.0264e-02,  4.8102e-02, -8.8720e-02, -2.3054e-02],\n",
      "        [-2.4365e-01, -4.7844e-03,  1.6385e-02, -1.2541e-01, -1.3808e-02],\n",
      "        [-2.2779e-01, -8.8964e-03,  2.8355e-02, -1.4109e-01, -2.9583e-02],\n",
      "        [-1.7515e-01, -5.0564e-03,  3.5304e-02, -9.3359e-02, -2.3369e-03],\n",
      "        [-1.8292e-01, -2.8010e-02,  3.8743e-02, -1.1746e-01, -3.5443e-02],\n",
      "        [-1.7415e-01, -2.2434e-02,  3.5585e-02, -1.0251e-01, -1.3864e-02],\n",
      "        [-1.7618e-01, -1.5830e-02,  4.1835e-02, -9.8837e-02, -1.2063e-02],\n",
      "        [-2.5861e-01,  1.8184e-02,  1.1335e-02, -1.6027e-01, -2.0575e-02],\n",
      "        [-1.7890e-01, -1.0726e-02,  4.2074e-02, -9.9579e-02, -1.6691e-02],\n",
      "        [-2.2534e-01,  1.2375e-02,  4.3326e-02, -1.5548e-01, -4.9309e-02],\n",
      "        [-1.8064e-01, -1.1942e-02,  3.2129e-02, -1.0153e-01, -1.1032e-02],\n",
      "        [-2.4622e-01,  2.9049e-02,  2.1380e-03, -1.5490e-01, -2.5245e-02],\n",
      "        [-1.6678e-01, -1.7166e-02,  4.5510e-02, -9.9464e-02, -1.9038e-02],\n",
      "        [-2.1863e-01, -3.3396e-03,  1.8374e-02, -1.4553e-01, -2.7462e-02],\n",
      "        [-1.6649e-01, -1.9435e-02,  6.0861e-02, -9.2744e-02, -1.6354e-02],\n",
      "        [-2.1014e-01, -1.3518e-02,  3.3625e-02, -1.3655e-01, -4.3888e-02],\n",
      "        [-1.8297e-01, -1.6523e-02,  4.2972e-02, -1.0758e-01, -2.0338e-02],\n",
      "        [-2.1024e-01,  3.1467e-03,  1.4566e-02, -1.2838e-01, -2.9606e-02],\n",
      "        [-1.6648e-01, -8.7236e-03,  3.6037e-02, -1.0200e-01, -2.2437e-02],\n",
      "        [-2.6454e-01,  2.6371e-03,  4.0140e-03, -1.3822e-01, -2.0057e-02],\n",
      "        [-2.2960e-01,  1.5379e-02,  2.0430e-02, -1.5442e-01, -4.0226e-02],\n",
      "        [-1.9923e-01,  8.7473e-03,  3.1345e-02, -1.1821e-01, -2.1450e-02],\n",
      "        [-1.6859e-01, -1.6583e-02,  4.8139e-02, -9.5169e-02, -2.2711e-02],\n",
      "        [-2.3635e-01, -2.5778e-04,  1.7075e-02, -1.4994e-01, -3.5594e-02],\n",
      "        [-2.4504e-01,  1.8137e-02,  3.4902e-03, -1.5521e-01, -2.9513e-02],\n",
      "        [-2.7147e-01,  2.4843e-02,  1.5554e-02, -1.4766e-01, -1.4723e-02],\n",
      "        [-1.9447e-01, -1.4117e-02,  2.9804e-02, -1.1978e-01, -3.9380e-02],\n",
      "        [-2.1807e-01, -1.4519e-02,  2.3259e-02, -1.2990e-01, -2.3313e-02],\n",
      "        [-1.7233e-01, -1.4214e-02,  3.3474e-02, -1.0294e-01, -1.9989e-02],\n",
      "        [-2.5504e-01,  9.6156e-04, -3.0613e-03, -1.5732e-01, -3.4885e-02],\n",
      "        [-2.2737e-01,  1.2014e-02,  3.4827e-02, -1.4054e-01, -2.5557e-02],\n",
      "        [-1.7847e-01, -1.8805e-02,  3.4719e-02, -1.0089e-01, -1.3757e-02],\n",
      "        [-2.0261e-01, -2.1036e-02,  2.3760e-02, -1.1457e-01, -2.4603e-02],\n",
      "        [-1.9206e-01, -1.9061e-02,  4.0446e-02, -1.0604e-01, -1.8888e-02],\n",
      "        [-2.2807e-01,  1.7995e-02,  1.7623e-02, -1.5497e-01, -4.6789e-02],\n",
      "        [-1.8109e-01, -2.2335e-02,  3.0598e-02, -1.0965e-01, -1.9694e-02],\n",
      "        [-2.6015e-01, -7.0574e-03, -1.7091e-03, -1.3722e-01, -2.7795e-02],\n",
      "        [-1.8049e-01, -2.3651e-02,  2.5491e-02, -1.0904e-01, -2.0243e-02],\n",
      "        [-2.4365e-01, -1.2177e-02, -3.4604e-03, -1.2101e-01, -4.2962e-02],\n",
      "        [-1.7657e-01, -1.3630e-02,  4.3025e-02, -9.2556e-02, -1.5635e-02],\n",
      "        [-2.3339e-01, -3.3897e-03,  2.1609e-02, -1.3760e-01, -3.7879e-02],\n",
      "        [-1.6949e-01, -2.4916e-02,  2.7254e-02, -1.0539e-01, -3.0144e-02],\n",
      "        [-2.4773e-01, -9.9144e-03, -6.9861e-03, -1.2624e-01, -4.3006e-02],\n",
      "        [-2.4343e-01,  2.4293e-02,  3.8860e-02, -1.6097e-01, -3.5255e-02],\n",
      "        [-2.4024e-01,  3.5721e-03,  1.2020e-02, -1.4540e-01, -3.6418e-02],\n",
      "        [-1.7228e-01, -1.6062e-02,  4.7821e-02, -9.6974e-02, -1.5342e-02],\n",
      "        [-2.0835e-01, -1.1315e-02,  2.2012e-02, -1.4367e-01, -5.3287e-02],\n",
      "        [-1.7957e-01, -1.6773e-02,  5.9236e-02, -1.0123e-01, -1.5878e-02],\n",
      "        [-2.2196e-01, -2.7818e-03,  2.9042e-02, -1.4958e-01, -4.6854e-02],\n",
      "        [-1.8074e-01, -2.3424e-02,  3.2303e-02, -9.9130e-02, -2.2877e-02],\n",
      "        [-2.1323e-01, -1.2581e-02,  1.9563e-02, -1.2524e-01, -3.6322e-02],\n",
      "        [-2.0890e-01, -1.5112e-02,  2.9550e-02, -1.2833e-01, -3.2146e-02],\n",
      "        [-1.8518e-01, -1.7884e-02,  3.3559e-02, -1.0237e-01, -1.4700e-02],\n",
      "        [-2.3599e-01,  1.4879e-02,  5.6329e-04, -1.4463e-01, -7.4094e-02],\n",
      "        [-2.5044e-01, -9.2918e-03,  4.3911e-03, -1.3630e-01, -3.3679e-02],\n",
      "        [-1.6818e-01, -2.3730e-02,  4.0353e-02, -9.4652e-02, -1.9060e-02]],\n",
      "       grad_fn=<AddmmBackward>) tensor([1, 2, 2, 2, 2, 2, 2, 2, 2, 2, 2, 2, 2, 2, 2, 2, 2, 2, 2, 2, 2, 3, 3, 2,\n",
      "        2, 2, 2, 2, 2, 2, 2, 2, 2, 1, 2, 2, 2, 2, 2, 2, 2, 2, 2, 2, 2, 3, 1, 2,\n",
      "        1, 2, 2, 2, 2, 2, 2, 2, 2, 2, 2, 2, 2, 4, 3, 2])\n"
     ]
    }
   ],
   "source": [
    "class LSTM(nn.Module):\n",
    "    def __init__(self, embedding_dim, hidden_dim, num_layers, vocab_size, target_size, dropout, embedding):\n",
    "        super(LSTM, self).__init__()\n",
    "        self.hidden_dim = hidden_dim\n",
    "        if embedding is None:\n",
    "            self.word_embeddings = nn.Embedding(vocab_size, embedding_dim, padding_idx=pad_idx)\n",
    "        else:\n",
    "            self.word_embeddings = embedding\n",
    "        \n",
    "        self.lstm = nn.LSTM(embedding_dim, hidden_dim, num_layers, dropout=dropout, bidirectional=True)\n",
    "\n",
    "        self.hidden2tag = nn.Linear(2 * hidden_dim, target_size)\n",
    "\n",
    "    def forward(self, sentences, length_list):\n",
    "\n",
    "        embeds = self.word_embeddings(sentences)\n",
    "\n",
    "        packed_x = pack_padded_sequence(embeds, lengths=length_list, batch_first=True, enforce_sorted=False)\n",
    "\n",
    "        packed_out, (h, C) = self.lstm(packed_x)\n",
    "        y_ = self.hidden2tag(torch.cat((h[-2], h[-1]), dim=1))\n",
    "        return y_\n",
    "\n",
    "loss_function = nn.CrossEntropyLoss()\n",
    "\n",
    "net = LSTM(100, 20, 20, vocab_size, n_classes, 0.6, None)\n",
    "\n",
    "optimizer = optim.SGD(net.parameters(), lr=0.1)\n",
    "\n",
    "for i, (inputs, targets, length_list) in enumerate(train_dataloader):\n",
    "    net.zero_grad()\n",
    "    \n",
    "    probs = net(inputs, length_list)\n",
    "\n",
    "    print(probs, targets)\n",
    "\n",
    "    loss = loss_function(probs, targets)\n",
    "\n",
    "    loss.backward()\n",
    "\n",
    "    optimizer.step()\n",
    "    break\n",
    "\n"
   ]
  },
  {
   "cell_type": "code",
   "execution_count": 254,
   "metadata": {},
   "outputs": [
    {
     "output_type": "stream",
     "name": "stdout",
     "text": [
      "epoch:  0 batch:  1280  time:  8.1 loss:  33.196224212646484\n",
      "epoch:  1 batch:  1280  time:  19.8 loss:  28.525990962982178\n",
      "epoch:  2 batch:  1280  time:  31.4 loss:  24.984364092350006\n",
      "epoch:  3 batch:  1280  time:  44.3 loss:  23.113911151885986\n",
      "epoch:  4 batch:  1280  time:  56.6 loss:  22.50793766975403\n",
      "epoch:  5 batch:  1280  time:  1m8.2 loss:  22.19699603319168\n",
      "epoch:  6 batch:  1280  time:  1m19.8 loss:  22.254164695739746\n",
      "epoch:  7 batch:  1280  time:  1m31.8 loss:  22.21861106157303\n",
      "epoch:  8 batch:  1280  time:  1m44.0 loss:  22.001746773719788\n",
      "epoch:  9 batch:  1280  time:  1m57.6 loss:  22.06411647796631\n"
     ]
    },
    {
     "output_type": "display_data",
     "data": {
      "text/plain": "<Figure size 432x288 with 1 Axes>",
      "image/svg+xml": "<?xml version=\"1.0\" encoding=\"utf-8\" standalone=\"no\"?>\r\n<!DOCTYPE svg PUBLIC \"-//W3C//DTD SVG 1.1//EN\"\r\n  \"http://www.w3.org/Graphics/SVG/1.1/DTD/svg11.dtd\">\r\n<!-- Created with matplotlib (http://matplotlib.org/) -->\r\n<svg height=\"252.018125pt\" version=\"1.1\" viewBox=\"0 0 372.425 252.018125\" width=\"372.425pt\" xmlns=\"http://www.w3.org/2000/svg\" xmlns:xlink=\"http://www.w3.org/1999/xlink\">\r\n <defs>\r\n  <style type=\"text/css\">\r\n*{stroke-linecap:butt;stroke-linejoin:round;}\r\n  </style>\r\n </defs>\r\n <g id=\"figure_1\">\r\n  <g id=\"patch_1\">\r\n   <path d=\"M -0 252.018125 \r\nL 372.425 252.018125 \r\nL 372.425 0 \r\nL -0 0 \r\nz\r\n\" style=\"fill:none;\"/>\r\n  </g>\r\n  <g id=\"axes_1\">\r\n   <g id=\"patch_2\">\r\n    <path d=\"M 26.925 228.14 \r\nL 361.725 228.14 \r\nL 361.725 10.7 \r\nL 26.925 10.7 \r\nz\r\n\" style=\"fill:#ffffff;\"/>\r\n   </g>\r\n   <g id=\"matplotlib.axis_1\">\r\n    <g id=\"xtick_1\">\r\n     <g id=\"line2d_1\">\r\n      <defs>\r\n       <path d=\"M 0 0 \r\nL 0 3.5 \r\n\" id=\"m2593dc7c82\" style=\"stroke:#000000;stroke-width:0.8;\"/>\r\n      </defs>\r\n      <g>\r\n       <use style=\"stroke:#000000;stroke-width:0.8;\" x=\"42.143182\" xlink:href=\"#m2593dc7c82\" y=\"228.14\"/>\r\n      </g>\r\n     </g>\r\n     <g id=\"text_1\">\r\n      <!-- 0 -->\r\n      <defs>\r\n       <path d=\"M 31.78125 66.40625 \r\nQ 24.171875 66.40625 20.328125 58.90625 \r\nQ 16.5 51.421875 16.5 36.375 \r\nQ 16.5 21.390625 20.328125 13.890625 \r\nQ 24.171875 6.390625 31.78125 6.390625 \r\nQ 39.453125 6.390625 43.28125 13.890625 \r\nQ 47.125 21.390625 47.125 36.375 \r\nQ 47.125 51.421875 43.28125 58.90625 \r\nQ 39.453125 66.40625 31.78125 66.40625 \r\nz\r\nM 31.78125 74.21875 \r\nQ 44.046875 74.21875 50.515625 64.515625 \r\nQ 56.984375 54.828125 56.984375 36.375 \r\nQ 56.984375 17.96875 50.515625 8.265625 \r\nQ 44.046875 -1.421875 31.78125 -1.421875 \r\nQ 19.53125 -1.421875 13.0625 8.265625 \r\nQ 6.59375 17.96875 6.59375 36.375 \r\nQ 6.59375 54.828125 13.0625 64.515625 \r\nQ 19.53125 74.21875 31.78125 74.21875 \r\nz\r\n\" id=\"DejaVuSans-30\"/>\r\n      </defs>\r\n      <g transform=\"translate(38.961932 242.738437)scale(0.1 -0.1)\">\r\n       <use xlink:href=\"#DejaVuSans-30\"/>\r\n      </g>\r\n     </g>\r\n    </g>\r\n    <g id=\"xtick_2\">\r\n     <g id=\"line2d_2\">\r\n      <g>\r\n       <use style=\"stroke:#000000;stroke-width:0.8;\" x=\"109.779545\" xlink:href=\"#m2593dc7c82\" y=\"228.14\"/>\r\n      </g>\r\n     </g>\r\n     <g id=\"text_2\">\r\n      <!-- 2 -->\r\n      <defs>\r\n       <path d=\"M 19.1875 8.296875 \r\nL 53.609375 8.296875 \r\nL 53.609375 0 \r\nL 7.328125 0 \r\nL 7.328125 8.296875 \r\nQ 12.9375 14.109375 22.625 23.890625 \r\nQ 32.328125 33.6875 34.8125 36.53125 \r\nQ 39.546875 41.84375 41.421875 45.53125 \r\nQ 43.3125 49.21875 43.3125 52.78125 \r\nQ 43.3125 58.59375 39.234375 62.25 \r\nQ 35.15625 65.921875 28.609375 65.921875 \r\nQ 23.96875 65.921875 18.8125 64.3125 \r\nQ 13.671875 62.703125 7.8125 59.421875 \r\nL 7.8125 69.390625 \r\nQ 13.765625 71.78125 18.9375 73 \r\nQ 24.125 74.21875 28.421875 74.21875 \r\nQ 39.75 74.21875 46.484375 68.546875 \r\nQ 53.21875 62.890625 53.21875 53.421875 \r\nQ 53.21875 48.921875 51.53125 44.890625 \r\nQ 49.859375 40.875 45.40625 35.40625 \r\nQ 44.1875 33.984375 37.640625 27.21875 \r\nQ 31.109375 20.453125 19.1875 8.296875 \r\nz\r\n\" id=\"DejaVuSans-32\"/>\r\n      </defs>\r\n      <g transform=\"translate(106.598295 242.738437)scale(0.1 -0.1)\">\r\n       <use xlink:href=\"#DejaVuSans-32\"/>\r\n      </g>\r\n     </g>\r\n    </g>\r\n    <g id=\"xtick_3\">\r\n     <g id=\"line2d_3\">\r\n      <g>\r\n       <use style=\"stroke:#000000;stroke-width:0.8;\" x=\"177.415909\" xlink:href=\"#m2593dc7c82\" y=\"228.14\"/>\r\n      </g>\r\n     </g>\r\n     <g id=\"text_3\">\r\n      <!-- 4 -->\r\n      <defs>\r\n       <path d=\"M 37.796875 64.3125 \r\nL 12.890625 25.390625 \r\nL 37.796875 25.390625 \r\nz\r\nM 35.203125 72.90625 \r\nL 47.609375 72.90625 \r\nL 47.609375 25.390625 \r\nL 58.015625 25.390625 \r\nL 58.015625 17.1875 \r\nL 47.609375 17.1875 \r\nL 47.609375 0 \r\nL 37.796875 0 \r\nL 37.796875 17.1875 \r\nL 4.890625 17.1875 \r\nL 4.890625 26.703125 \r\nz\r\n\" id=\"DejaVuSans-34\"/>\r\n      </defs>\r\n      <g transform=\"translate(174.234659 242.738437)scale(0.1 -0.1)\">\r\n       <use xlink:href=\"#DejaVuSans-34\"/>\r\n      </g>\r\n     </g>\r\n    </g>\r\n    <g id=\"xtick_4\">\r\n     <g id=\"line2d_4\">\r\n      <g>\r\n       <use style=\"stroke:#000000;stroke-width:0.8;\" x=\"245.052273\" xlink:href=\"#m2593dc7c82\" y=\"228.14\"/>\r\n      </g>\r\n     </g>\r\n     <g id=\"text_4\">\r\n      <!-- 6 -->\r\n      <defs>\r\n       <path d=\"M 33.015625 40.375 \r\nQ 26.375 40.375 22.484375 35.828125 \r\nQ 18.609375 31.296875 18.609375 23.390625 \r\nQ 18.609375 15.53125 22.484375 10.953125 \r\nQ 26.375 6.390625 33.015625 6.390625 \r\nQ 39.65625 6.390625 43.53125 10.953125 \r\nQ 47.40625 15.53125 47.40625 23.390625 \r\nQ 47.40625 31.296875 43.53125 35.828125 \r\nQ 39.65625 40.375 33.015625 40.375 \r\nz\r\nM 52.59375 71.296875 \r\nL 52.59375 62.3125 \r\nQ 48.875 64.0625 45.09375 64.984375 \r\nQ 41.3125 65.921875 37.59375 65.921875 \r\nQ 27.828125 65.921875 22.671875 59.328125 \r\nQ 17.53125 52.734375 16.796875 39.40625 \r\nQ 19.671875 43.65625 24.015625 45.921875 \r\nQ 28.375 48.1875 33.59375 48.1875 \r\nQ 44.578125 48.1875 50.953125 41.515625 \r\nQ 57.328125 34.859375 57.328125 23.390625 \r\nQ 57.328125 12.15625 50.6875 5.359375 \r\nQ 44.046875 -1.421875 33.015625 -1.421875 \r\nQ 20.359375 -1.421875 13.671875 8.265625 \r\nQ 6.984375 17.96875 6.984375 36.375 \r\nQ 6.984375 53.65625 15.1875 63.9375 \r\nQ 23.390625 74.21875 37.203125 74.21875 \r\nQ 40.921875 74.21875 44.703125 73.484375 \r\nQ 48.484375 72.75 52.59375 71.296875 \r\nz\r\n\" id=\"DejaVuSans-36\"/>\r\n      </defs>\r\n      <g transform=\"translate(241.871023 242.738437)scale(0.1 -0.1)\">\r\n       <use xlink:href=\"#DejaVuSans-36\"/>\r\n      </g>\r\n     </g>\r\n    </g>\r\n    <g id=\"xtick_5\">\r\n     <g id=\"line2d_5\">\r\n      <g>\r\n       <use style=\"stroke:#000000;stroke-width:0.8;\" x=\"312.688636\" xlink:href=\"#m2593dc7c82\" y=\"228.14\"/>\r\n      </g>\r\n     </g>\r\n     <g id=\"text_5\">\r\n      <!-- 8 -->\r\n      <defs>\r\n       <path d=\"M 31.78125 34.625 \r\nQ 24.75 34.625 20.71875 30.859375 \r\nQ 16.703125 27.09375 16.703125 20.515625 \r\nQ 16.703125 13.921875 20.71875 10.15625 \r\nQ 24.75 6.390625 31.78125 6.390625 \r\nQ 38.8125 6.390625 42.859375 10.171875 \r\nQ 46.921875 13.96875 46.921875 20.515625 \r\nQ 46.921875 27.09375 42.890625 30.859375 \r\nQ 38.875 34.625 31.78125 34.625 \r\nz\r\nM 21.921875 38.8125 \r\nQ 15.578125 40.375 12.03125 44.71875 \r\nQ 8.5 49.078125 8.5 55.328125 \r\nQ 8.5 64.0625 14.71875 69.140625 \r\nQ 20.953125 74.21875 31.78125 74.21875 \r\nQ 42.671875 74.21875 48.875 69.140625 \r\nQ 55.078125 64.0625 55.078125 55.328125 \r\nQ 55.078125 49.078125 51.53125 44.71875 \r\nQ 48 40.375 41.703125 38.8125 \r\nQ 48.828125 37.15625 52.796875 32.3125 \r\nQ 56.78125 27.484375 56.78125 20.515625 \r\nQ 56.78125 9.90625 50.3125 4.234375 \r\nQ 43.84375 -1.421875 31.78125 -1.421875 \r\nQ 19.734375 -1.421875 13.25 4.234375 \r\nQ 6.78125 9.90625 6.78125 20.515625 \r\nQ 6.78125 27.484375 10.78125 32.3125 \r\nQ 14.796875 37.15625 21.921875 38.8125 \r\nz\r\nM 18.3125 54.390625 \r\nQ 18.3125 48.734375 21.84375 45.5625 \r\nQ 25.390625 42.390625 31.78125 42.390625 \r\nQ 38.140625 42.390625 41.71875 45.5625 \r\nQ 45.3125 48.734375 45.3125 54.390625 \r\nQ 45.3125 60.0625 41.71875 63.234375 \r\nQ 38.140625 66.40625 31.78125 66.40625 \r\nQ 25.390625 66.40625 21.84375 63.234375 \r\nQ 18.3125 60.0625 18.3125 54.390625 \r\nz\r\n\" id=\"DejaVuSans-38\"/>\r\n      </defs>\r\n      <g transform=\"translate(309.507386 242.738437)scale(0.1 -0.1)\">\r\n       <use xlink:href=\"#DejaVuSans-38\"/>\r\n      </g>\r\n     </g>\r\n    </g>\r\n   </g>\r\n   <g id=\"matplotlib.axis_2\">\r\n    <g id=\"ytick_1\">\r\n     <g id=\"line2d_6\">\r\n      <defs>\r\n       <path d=\"M 0 0 \r\nL -3.5 0 \r\n\" id=\"mf84bff8b01\" style=\"stroke:#000000;stroke-width:0.8;\"/>\r\n      </defs>\r\n      <g>\r\n       <use style=\"stroke:#000000;stroke-width:0.8;\" x=\"26.925\" xlink:href=\"#mf84bff8b01\" y=\"218.287208\"/>\r\n      </g>\r\n     </g>\r\n     <g id=\"text_6\">\r\n      <!-- 22 -->\r\n      <g transform=\"translate(7.2 222.086427)scale(0.1 -0.1)\">\r\n       <use xlink:href=\"#DejaVuSans-32\"/>\r\n       <use x=\"63.623047\" xlink:href=\"#DejaVuSans-32\"/>\r\n      </g>\r\n     </g>\r\n    </g>\r\n    <g id=\"ytick_2\">\r\n     <g id=\"line2d_7\">\r\n      <g>\r\n       <use style=\"stroke:#000000;stroke-width:0.8;\" x=\"26.925\" xlink:href=\"#mf84bff8b01\" y=\"182.971093\"/>\r\n      </g>\r\n     </g>\r\n     <g id=\"text_7\">\r\n      <!-- 24 -->\r\n      <g transform=\"translate(7.2 186.770312)scale(0.1 -0.1)\">\r\n       <use xlink:href=\"#DejaVuSans-32\"/>\r\n       <use x=\"63.623047\" xlink:href=\"#DejaVuSans-34\"/>\r\n      </g>\r\n     </g>\r\n    </g>\r\n    <g id=\"ytick_3\">\r\n     <g id=\"line2d_8\">\r\n      <g>\r\n       <use style=\"stroke:#000000;stroke-width:0.8;\" x=\"26.925\" xlink:href=\"#mf84bff8b01\" y=\"147.654978\"/>\r\n      </g>\r\n     </g>\r\n     <g id=\"text_8\">\r\n      <!-- 26 -->\r\n      <g transform=\"translate(7.2 151.454197)scale(0.1 -0.1)\">\r\n       <use xlink:href=\"#DejaVuSans-32\"/>\r\n       <use x=\"63.623047\" xlink:href=\"#DejaVuSans-36\"/>\r\n      </g>\r\n     </g>\r\n    </g>\r\n    <g id=\"ytick_4\">\r\n     <g id=\"line2d_9\">\r\n      <g>\r\n       <use style=\"stroke:#000000;stroke-width:0.8;\" x=\"26.925\" xlink:href=\"#mf84bff8b01\" y=\"112.338863\"/>\r\n      </g>\r\n     </g>\r\n     <g id=\"text_9\">\r\n      <!-- 28 -->\r\n      <g transform=\"translate(7.2 116.138081)scale(0.1 -0.1)\">\r\n       <use xlink:href=\"#DejaVuSans-32\"/>\r\n       <use x=\"63.623047\" xlink:href=\"#DejaVuSans-38\"/>\r\n      </g>\r\n     </g>\r\n    </g>\r\n    <g id=\"ytick_5\">\r\n     <g id=\"line2d_10\">\r\n      <g>\r\n       <use style=\"stroke:#000000;stroke-width:0.8;\" x=\"26.925\" xlink:href=\"#mf84bff8b01\" y=\"77.022748\"/>\r\n      </g>\r\n     </g>\r\n     <g id=\"text_10\">\r\n      <!-- 30 -->\r\n      <defs>\r\n       <path d=\"M 40.578125 39.3125 \r\nQ 47.65625 37.796875 51.625 33 \r\nQ 55.609375 28.21875 55.609375 21.1875 \r\nQ 55.609375 10.40625 48.1875 4.484375 \r\nQ 40.765625 -1.421875 27.09375 -1.421875 \r\nQ 22.515625 -1.421875 17.65625 -0.515625 \r\nQ 12.796875 0.390625 7.625 2.203125 \r\nL 7.625 11.71875 \r\nQ 11.71875 9.328125 16.59375 8.109375 \r\nQ 21.484375 6.890625 26.8125 6.890625 \r\nQ 36.078125 6.890625 40.9375 10.546875 \r\nQ 45.796875 14.203125 45.796875 21.1875 \r\nQ 45.796875 27.640625 41.28125 31.265625 \r\nQ 36.765625 34.90625 28.71875 34.90625 \r\nL 20.21875 34.90625 \r\nL 20.21875 43.015625 \r\nL 29.109375 43.015625 \r\nQ 36.375 43.015625 40.234375 45.921875 \r\nQ 44.09375 48.828125 44.09375 54.296875 \r\nQ 44.09375 59.90625 40.109375 62.90625 \r\nQ 36.140625 65.921875 28.71875 65.921875 \r\nQ 24.65625 65.921875 20.015625 65.03125 \r\nQ 15.375 64.15625 9.8125 62.3125 \r\nL 9.8125 71.09375 \r\nQ 15.4375 72.65625 20.34375 73.4375 \r\nQ 25.25 74.21875 29.59375 74.21875 \r\nQ 40.828125 74.21875 47.359375 69.109375 \r\nQ 53.90625 64.015625 53.90625 55.328125 \r\nQ 53.90625 49.265625 50.4375 45.09375 \r\nQ 46.96875 40.921875 40.578125 39.3125 \r\nz\r\n\" id=\"DejaVuSans-33\"/>\r\n      </defs>\r\n      <g transform=\"translate(7.2 80.821966)scale(0.1 -0.1)\">\r\n       <use xlink:href=\"#DejaVuSans-33\"/>\r\n       <use x=\"63.623047\" xlink:href=\"#DejaVuSans-30\"/>\r\n      </g>\r\n     </g>\r\n    </g>\r\n    <g id=\"ytick_6\">\r\n     <g id=\"line2d_11\">\r\n      <g>\r\n       <use style=\"stroke:#000000;stroke-width:0.8;\" x=\"26.925\" xlink:href=\"#mf84bff8b01\" y=\"41.706632\"/>\r\n      </g>\r\n     </g>\r\n     <g id=\"text_11\">\r\n      <!-- 32 -->\r\n      <g transform=\"translate(7.2 45.505851)scale(0.1 -0.1)\">\r\n       <use xlink:href=\"#DejaVuSans-33\"/>\r\n       <use x=\"63.623047\" xlink:href=\"#DejaVuSans-32\"/>\r\n      </g>\r\n     </g>\r\n    </g>\r\n   </g>\r\n   <g id=\"line2d_12\">\r\n    <path clip-path=\"url(#p9f4ed683e8)\" d=\"M 42.143182 20.583636 \r\nL 75.961364 103.050884 \r\nL 109.779545 165.589135 \r\nL 143.597727 198.617701 \r\nL 177.415909 209.318016 \r\nL 211.234091 214.808641 \r\nL 245.052273 213.799153 \r\nL 278.870455 214.426962 \r\nL 312.688636 218.256364 \r\nL 346.506818 217.155036 \r\n\" style=\"fill:none;stroke:#1f77b4;stroke-linecap:square;stroke-width:1.5;\"/>\r\n   </g>\r\n   <g id=\"patch_3\">\r\n    <path d=\"M 26.925 228.14 \r\nL 26.925 10.7 \r\n\" style=\"fill:none;stroke:#000000;stroke-linecap:square;stroke-linejoin:miter;stroke-width:0.8;\"/>\r\n   </g>\r\n   <g id=\"patch_4\">\r\n    <path d=\"M 361.725 228.14 \r\nL 361.725 10.7 \r\n\" style=\"fill:none;stroke:#000000;stroke-linecap:square;stroke-linejoin:miter;stroke-width:0.8;\"/>\r\n   </g>\r\n   <g id=\"patch_5\">\r\n    <path d=\"M 26.925 228.14 \r\nL 361.725 228.14 \r\n\" style=\"fill:none;stroke:#000000;stroke-linecap:square;stroke-linejoin:miter;stroke-width:0.8;\"/>\r\n   </g>\r\n   <g id=\"patch_6\">\r\n    <path d=\"M 26.925 10.7 \r\nL 361.725 10.7 \r\n\" style=\"fill:none;stroke:#000000;stroke-linecap:square;stroke-linejoin:miter;stroke-width:0.8;\"/>\r\n   </g>\r\n  </g>\r\n </g>\r\n <defs>\r\n  <clipPath id=\"p9f4ed683e8\">\r\n   <rect height=\"217.44\" width=\"334.8\" x=\"26.925\" y=\"10.7\"/>\r\n  </clipPath>\r\n </defs>\r\n</svg>\r\n",
      "image/png": "[encoded data removed]"
     },
     "metadata": {}
    }
   ],
   "source": [
    "def pretty_time(time, degree=1):\n",
    "    return str(int(time // 60)) + \"m \" + str(round(time % 60, degree)) if time > 60 else round(time, degree)\n",
    "\n",
    "net = LSTM(100, 20, 20, vocab_size, n_classes, 0.6, None)\n",
    "\n",
    "def train():\n",
    "    \n",
    "    criterion =  nn.CrossEntropyLoss()\n",
    "\n",
    "    optimizer = optim.Adam(net.parameters(), lr=0.001)\n",
    "\n",
    "    epoch = 10\n",
    "\n",
    "    start_time = time.time()\n",
    "\n",
    "    loss_list = []\n",
    "\n",
    "    for i in range(epoch):\n",
    "        total_loss = 0.\n",
    "        for j, (inputs, targets, length_list) in enumerate(train_dataloader):\n",
    "            probs = net(inputs, length_list)\n",
    "\n",
    "            net.zero_grad()\n",
    "  \n",
    "            loss = criterion(probs, targets)\n",
    "            loss.backward()\n",
    "            torch.nn.utils.clip_grad_norm_(net.parameters(), 0.5)\n",
    "            optimizer.step()\n",
    "\n",
    "            total_loss += loss.item()\n",
    "            log_interval = len(x_train)\n",
    "\n",
    "            if  j % 100 == 0 and j:\n",
    "                time_past = time.time() - start_time\n",
    "                cur_loss = total_loss\n",
    "                loss_list.append(cur_loss)\n",
    "                total_loss = 0\n",
    "                print(\"epoch: \", i, \"batch: \", round(j * batch_size, len(x_train)), \" time: \", pretty_time(time_past), \"loss: \", cur_loss)\n",
    "\n",
    "    plt.plot(loss_list)\n",
    "\n",
    "    plt.show()\n",
    "    \n",
    "train()"
   ]
  },
  {
   "cell_type": "code",
   "execution_count": 273,
   "metadata": {},
   "outputs": [
    {
     "output_type": "stream",
     "name": "stdout",
     "text": [
      "acc_val:  0.6229838709677419\n",
      "Counter({2: 597, 3: 173, 1: 147, 4: 49, 0: 30})\n",
      "[0.5993975903614458, 0.14759036144578314, 0.04919678714859438, 0.030120481927710843, 0.17369477911646586]\n"
     ]
    }
   ],
   "source": [
    "def test():\n",
    "    count = 0\n",
    "    i = 0\n",
    "    from collections import Counter\n",
    "    with torch.no_grad():\n",
    "        for j, (inputs, targets, length_list) in enumerate(test_dataloader):\n",
    "            probs = net(inputs, length_list)\n",
    "            count += Counter((torch.argmax(probs, dim=1) - targets).tolist())[0]\n",
    "            i = j\n",
    "    print(\"acc_val: \", count / (j*batch_size))\n",
    "    distribution = Counter(y_val)\n",
    "    print(distribution)\n",
    "    print([i/len(y_val) for i in distribution.values()])\n",
    "\n",
    "\n",
    "test()"
   ]
  },
  {
   "cell_type": "code",
   "execution_count": null,
   "metadata": {},
   "outputs": [],
   "source": []
  }
 ]
}