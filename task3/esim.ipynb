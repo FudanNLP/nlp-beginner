{
 "metadata": {
  "language_info": {
   "codemirror_mode": {
    "name": "ipython",
    "version": 3
   },
   "file_extension": ".py",
   "mimetype": "text/x-python",
   "name": "python",
   "nbconvert_exporter": "python",
   "pygments_lexer": "ipython3",
   "version": 3
  },
  "orig_nbformat": 2
 },
 "nbformat": 4,
 "nbformat_minor": 2,
 "cells": [
  {
   "cell_type": "code",
   "execution_count": null,
   "metadata": {},
   "outputs": [],
   "source": [
    "#The ESIM seems complex, let's make it first \n",
    "class MLP(nn.Module):\n",
    "    def __init__(self, input_size, hidden_size, class_num):\n",
    "        super().__init__()\n",
    "        self.fc1 = nn.Linear(input_size, hidden_size)\n",
    "        self.tanh = nn.Tanh()\n",
    "        self.fc2 = nn.Linear(hidden_size, class_num)\n",
    "        self.loss_func = nn.CrossEntropyLoss()\n",
    "\n",
    "    def forward(self, x):\n",
    "        return self.fc2(self.tanh(self.fc1(x)))\n",
    "\n",
    "class BiLSTM(nn.Module):\n",
    "    def __init__(self, embedding_dim, hidden_size. bidirectional):\n",
    "        super().__init__()\n",
    "        self.bi_lstm = nn.LSTM(embedding_dim, hidden_size, bidirectional)\n",
    "\n",
    "    def forward(self, tensor_sentences, seq_lengths):\n",
    "        packed_sentences = pack_padded_sequence(tensor_sentences, seq_lengths, batch_first=True, enforce_sorted=False)\n",
    "        output, _ = self.bi_lstm(packed_sentences)\n",
    "        result, _ = pad_packed_sequence(output, batch_first=True)\n",
    "        return result\n",
    "\n",
    "class ESIM(nn.Module):\n",
    "    def __init__(self,embedding_dim, vocab_dim, num_layers):\n",
    "        super().__init__()\n",
    "        self.BiLSTM = BiLSTM(embedding_dim, vocab_dim, True)\n",
    "        \n",
    "        pass\n",
    "\n",
    "    def forward(self, x):\n",
    "        pass"
   ]
  }
 ]
}