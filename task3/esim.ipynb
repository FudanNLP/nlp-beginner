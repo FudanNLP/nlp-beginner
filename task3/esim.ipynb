{
 "metadata": {
  "language_info": {
   "codemirror_mode": {
    "name": "ipython",
    "version": 3
   },
   "file_extension": ".py",
   "mimetype": "text/x-python",
   "name": "python",
   "nbconvert_exporter": "python",
   "pygments_lexer": "ipython3",
   "version": "3.7.9"
  },
  "orig_nbformat": 2,
  "kernelspec": {
   "name": "python3",
   "display_name": "Python 3.7.9 64-bit ('cs224n': conda)",
   "metadata": {
    "interpreter": {
     "hash": "976ac0e44a77ecebd9924796002391647c6712319b88e0f45a893d4da7082770"
    }
   }
  }
 },
 "nbformat": 4,
 "nbformat_minor": 2,
 "cells": [
  {
   "source": [
    "#The ESIM seems complex, let's make it first\n",
    "#following almostly copied from yjqiang \n",
    "#reference:https://blog.csdn.net/jesseyule/article/details/100579295\n",
    "\n",
    "import os\n",
    "import re\n",
    "import time\n",
    "import torch\n",
    "import torch.nn as nn\n",
    "import torch.optim as optim\n",
    "import numpy\n",
    "import torch.nn.functional as F\n",
    "from torch.nn.utils.rnn import pack_padded_sequence\n",
    "from torch.nn.utils.rnn import pad_packed_sequence\n",
    "import pandas as pd\n",
    "import matplotlib.pyplot as plt\n",
    "from sklearn.model_selection import train_test_split\n",
    "\n",
    "torch.manual_seed(1)\n",
    "\n",
    "class BiLSTM(nn.Module):\n",
    "    def __init__(self, embedding_dim, hidden_size):\n",
    "        super().__init__()\n",
    "        self.bi_lstm = nn.LSTM(input_size=embedding_dim, hidden_size=hidden_size, bidirectional=True, batch_first=True)\n",
    "\n",
    "    def forward(self, tensor_sentences, length_list):\n",
    "        packed_sentences = pack_padded_sequence(tensor_sentences, length_list, batch_first=True, enforce_sorted=False)\n",
    "        output, _ = self.bi_lstm(packed_sentences)\n",
    "        result, _ = pad_packed_sequence(output, batch_first=True)\n",
    "        return result"
   ],
   "cell_type": "code",
   "metadata": {},
   "execution_count": 1,
   "outputs": []
  },
  {
   "source": [
    "![alt text](encoder.png)"
   ],
   "cell_type": "markdown",
   "metadata": {}
  },
  {
   "source": [
    "![alt text](whatesimcando.png)"
   ],
   "cell_type": "markdown",
   "metadata": {}
  },
  {
   "source": [
    "class LocalInferenceModeling(nn.Module):\n",
    "    def __init__(self):\n",
    "        super().__init__()\n",
    "        self.softmax = nn.Softmax(dim=2)  # -1\n",
    "\n",
    "    def attention(self, x1_bar, length_list1, x2_bar, length_list2):\n",
    "        e = torch.bmm(x1_bar, x2_bar.transpose(1, 2))  # shape: (batch_size, max_sentence_length1, max_sentence_length2)\n",
    "\n",
    "        batch_size, max_sentence_length1, max_sentence_length2 = e.shape\n",
    "\n",
    "        #to get rid of pad\n",
    "        mask1 = torch.ge(torch.arange(max_sentence_length1).expand(batch_size, -1), length_list1.unsqueeze(-1))\n",
    "        mask2 = torch.ge(torch.arange(max_sentence_length2).expand(batch_size, -1), length_list2.unsqueeze(-1))\n",
    "\n",
    "        softmax_e = self.softmax(e.masked_fill(mask2.unsqueeze(1), float('-inf')))\n",
    "        x1_tilde = torch.bmm(softmax_e, x2_bar)\n",
    "\n",
    "        softmax_e = self.softmax(e.transpose(1, 2).masked_fill(mask1.unsqueeze(1), float('-inf')))\n",
    "        x2_tilde = torch.bmm(softmax_e, x1_bar) \n",
    "        return x1_tilde, x2_tilde\n",
    "\n",
    "    @staticmethod\n",
    "    def enhancement(x_bar, x_tilde):\n",
    "        return torch.cat([x_bar, x_tilde, x_bar - x_tilde, x_bar * x_tilde], dim=-1)\n",
    "\n",
    "    def forward(self, x1_bar, length_list1, x2_bar, length_list2):\n",
    "        x1_tilde, x2_tilde = self.attention(x1_bar, length_list1, x2_bar, length_list2)\n",
    "        return self.enhancement(x1_bar, x1_tilde), self.enhancement(x2_bar, x2_tilde)"
   ],
   "cell_type": "code",
   "metadata": {},
   "execution_count": 2,
   "outputs": []
  },
  {
   "source": [
    "![alt text](attention1.png)\n",
    "![alt text](attention2.png)\n",
    "![alt text](enhance.png)"
   ],
   "cell_type": "markdown",
   "metadata": {}
  },
  {
   "cell_type": "code",
   "execution_count": 3,
   "metadata": {},
   "outputs": [],
   "source": [
    "class MLP(nn.Module):\n",
    "    def __init__(self, input_size, hidden_size, class_num):\n",
    "        super().__init__()\n",
    "        self.fc1 = nn.Linear(input_size, hidden_size)\n",
    "        self.tanh = nn.Tanh()\n",
    "        self.fc2 = nn.Linear(hidden_size, class_num)\n",
    "\n",
    "    def forward(self, x):\n",
    "        return self.fc2(self.tanh(self.fc1(x)))\n",
    "\n",
    "class InferenceComposition(nn.Module):\n",
    "    def __init__(self, input_size, hidden_size, class_num):\n",
    "        super().__init__()\n",
    "        self.F = nn.Linear(input_size, hidden_size)\n",
    "        self.relu = nn.ReLU()\n",
    "        self.BiLSTM = BiLSTM(hidden_size, hidden_size // 2)\n",
    "\n",
    "        self.MLP = MLP(4 * hidden_size, hidden_size, class_num)\n",
    "\n",
    "    def handle_x(self, m_x, length_list):\n",
    "        v_x_t = self.BiLSTM(self.relu(self.F(m_x)), length_list)\n",
    "\n",
    "        max_sentence_length = m_x.shape[1]\n",
    "        v_x_t_transpose = v_x_t.transpose(1, 2)\n",
    "        v_x_avg = F.avg_pool1d(v_x_t_transpose, kernel_size=max_sentence_length).squeeze(-1)\n",
    "        v_x_max = F.max_pool1d(v_x_t_transpose, kernel_size=max_sentence_length).squeeze(-1)\n",
    "        return torch.cat([v_x_avg, v_x_max], dim=1)\n",
    "\n",
    "    def forward(self, m_x1: torch.Tensor, seq_lengths1: torch.Tensor, m_x2: torch.Tensor, seq_lengths2: torch.Tensor) -> torch.Tensor:\n",
    "        v = torch.cat([self.handle_x(m_x1, seq_lengths1), self.handle_x(m_x2, seq_lengths2)], dim=-1)  # shape: (batch_size, 4 * hidden_size)  \n",
    "        return self.MLP(v)\n",
    "\n",
    "\n",
    "class ESIM(nn.Module):\n",
    "    def __init__(self, embedding_dim, vocab_dim, hidden_size, class_num, embedding, pad_idx):\n",
    "        super().__init__()\n",
    "        if embedding:\n",
    "            self.embedding = embedding\n",
    "        else:\n",
    "            self.embedding = nn.Embedding(vocab_dim, embedding_dim, padding_idx=pad_idx)\n",
    "\n",
    "        self.BiLSTM = BiLSTM(embedding_dim, hidden_size // 2)\n",
    "        self.LocalInferenceModeling=LocalInferenceModeling()\n",
    "        self.InferenceComposition = InferenceComposition(input_size=hidden_size*4, hidden_size=hidden_size, class_num=class_num)\n",
    "        \n",
    "    def forward(self, x1, length_list1, x2, length_list2):\n",
    "        x1_ = self.embedding(x1)  # 论文中的 a；shape: (batch_size, max_sentence_length1, embedding_size)\n",
    "        x2_ = self.embedding(x2)  # 论文中的 b；shape: (batch_size, max_sentence_length2, embedding_size)\n",
    "\n",
    "        # 3.1  INPUT ENCODING\n",
    "        x1_bar = self.BiLSTM(x1_, length_list1)  # 论文中的 a_bar；shape: (batch_size, max_sentence_length1, hidden_size)\n",
    "        x2_bar = self.BiLSTM(x2_, length_list2)  # 论文中的 b_bar；shape: (batch_size, max_sentence_length2, hidden_size)\n",
    "\n",
    "        # 3.2 Local Inference Modeling\n",
    "        m_x1, m_x2 = self.LocalInferenceModeling(x1_bar, length_list1, x2_bar, length_list2)  # 论文中的 ma/mb；shape: (batch_size, max_sentence_length_i, hidden_size*4)\n",
    "\n",
    "        # 3.3 INFERENCE COMPOSITION\n",
    "        scores = self.InferenceComposition(m_x1, length_list1, m_x2, length_list2)  # scores shape: (batch_size, class_num\n",
    "        return scores"
   ]
  },
  {
   "cell_type": "code",
   "execution_count": 11,
   "metadata": {},
   "outputs": [],
   "source": [
    "#too tedious ... let's take a break ...\n"
   ]
  },
  {
   "cell_type": "code",
   "execution_count": 17,
   "metadata": {},
   "outputs": [
    {
     "output_type": "stream",
     "name": "stdout",
     "text": [
      "50000\n"
     ]
    }
   ],
   "source": [
    "def read_json(path):\n",
    "    label2index = {'contradiction': 0, 'entailment': 1, 'neutral': 2}\n",
    "    x1 = []\n",
    "    x2 = []\n",
    "    labels = []\n",
    "    with open(path, 'r') as f:\n",
    "        for line in f:\n",
    "            line = json.loads(line)\n",
    "            if line['gold_label'] == '-':\n",
    "                continue\n",
    "            x1.append(line['sentence1'])\n",
    "            x2.append(line['sentence2'])\n",
    "            labels.append(label2index[line['gold_label']])\n",
    "    return x1, x2, labels\n",
    "\n",
    "import json\n",
    "train_path = '../data/snli_1.0/snli_1.0_train.jsonl'\n",
    "dev_path = '../data/snli_1.0/snli_1.0_dev.jsonl'\n",
    "test_path = '../data/snli_1.0/snli_1.0_test.jsonl'\n",
    "\n",
    "def clean_text(x1, x2, y):\n",
    "    x1 = [i.lower() for i in x1]\n",
    "    x1 = [re.sub(r'[^A-Za-z]+', ' ', i) for i in x1]\n",
    "    x2 = [i.lower() for i in x2]\n",
    "    x2 = [re.sub(r'[^A-Za-z]+', ' ', i) for i in x2]\n",
    "\n",
    "    x1_, x2_, y_ = [], [], []\n",
    "    for i in range(len(x1)):\n",
    "        if x1[i].split() and x2[i].split():\n",
    "            x1_.append(x1[i])\n",
    "            x2_.append(x2[i])\n",
    "            y_.append(y[i])\n",
    "    return x1_, x2_, y_\n",
    "\n",
    "x_train1_orig, x_train2_orig, y_train_orig = read_json(train_path)\n",
    "x_dev1_orig, x_dev2_orig, y_dev_orig = read_json(dev_path)\n",
    "\n",
    "length = 50000\n",
    "\n",
    "x_train1, x_train2, y_train = clean_text(x_train1_orig[:length], x_train2_orig[:length], y_train_orig[:length])\n",
    "x_dev1, x_dev2, y_dev = clean_text(x_dev1_orig, x_dev2_orig, y_dev_orig)\n",
    "\n",
    "print(len(x_train1))\n"
   ]
  },
  {
   "cell_type": "code",
   "execution_count": 18,
   "metadata": {},
   "outputs": [
    {
     "output_type": "stream",
     "name": "stdout",
     "text": [
      "vocab_size:  13439\n"
     ]
    }
   ],
   "source": [
    "#simple build dict\n",
    "def build_dict(x):\n",
    "    ret = []\n",
    "    for i in x:\n",
    "        ret += [j for j in i.split()]\n",
    "    return list(set(ret))\n",
    "\n",
    "d = build_dict(x_train1+x_train2+x_dev1+x_dev2)\n",
    "\n",
    "word2idx = {d[i]:i for i in range(len(d))}\n",
    "\n",
    "pad_idx = len(word2idx)\n",
    "\n",
    "word2idx[\"<pad>\"] = pad_idx\n",
    "\n",
    "vocab_size = len(word2idx)\n",
    "\n",
    "n_classes = 3\n",
    "\n",
    "print(\"vocab_size: \", vocab_size)\n",
    "\n"
   ]
  },
  {
   "cell_type": "code",
   "execution_count": 20,
   "metadata": {},
   "outputs": [],
   "source": [
    "#Build datalodaer\n",
    "batch_size = 400\n",
    "\n",
    "class mydataset(torch.utils.data.Dataset):\n",
    "    def __init__(self, x1:torch.Tensor, x2:torch.Tensor, y:torch.Tensor, length_list1, length_list2):\n",
    "        self.x1 = x1\n",
    "        self.x2 = x2\n",
    "        self.y = y\n",
    "        self.length_list1 = length_list1\n",
    "        self.length_list2 = length_list2\n",
    "    def __getitem__(self, index):\n",
    "        x1 = self.x1[index]\n",
    "        x2 = self.x2[index]\n",
    "        labels = self.y[index]\n",
    "        length1 = self.length_list1[index]\n",
    "        length2 = self.length_list2[index]\n",
    "        return x1, x2, labels, length1, length2\n",
    "    def __len__(self):\n",
    "        return len(self.x1)\n",
    "\n",
    "def get_idx(word):\n",
    "    try:\n",
    "        return word2idx[word]\n",
    "    except:\n",
    "        return word2idx['unknown']\n",
    "\n",
    "def sentence2vector(sentence):\n",
    "    return [get_idx(word) for word in sentence.split()]\n",
    "\n",
    "def padding(x, max_length):\n",
    "    length = 0\n",
    "    for i in range(max_length - len(x)):\n",
    "        x.append(word2idx[\"padding\"])\n",
    "    return x\n",
    "\n",
    "def get_dataloader(x1, x2, y):\n",
    "    inputs1 = [sentence2vector(s) for s in x1]\n",
    "\n",
    "    inputs2 = [sentence2vector(s) for s in x2]\n",
    "\n",
    "    length_list1 = [len(i) for i in inputs1]\n",
    "\n",
    "    length_list2 = [len(i) for i in inputs2]\n",
    "\n",
    "    max_length1 = max(length_list1)\n",
    "    max_length2 = max(length_list2)\n",
    "\n",
    "    inputs1 = torch.tensor([padding(s, max_length1) for s in inputs1])\n",
    "\n",
    "    inputs2 = torch.tensor([padding(s, max_length2) for s in inputs2])\n",
    "\n",
    "    targets =  torch.tensor(y, dtype=torch.long)\n",
    "\n",
    "    dataset = mydataset(inputs1, inputs2, targets, length_list1, length_list2)\n",
    "\n",
    "    dataloader = torch.utils.data.DataLoader(dataset, shuffle=False, batch_size=batch_size)\n",
    "\n",
    "    return dataloader\n",
    "\n",
    "train_dataloader = get_dataloader(x_train1, x_train2, y_train)\n",
    "\n",
    "test_dataloader = get_dataloader(x_dev1, x_dev2, y_dev)"
   ]
  },
  {
   "cell_type": "code",
   "execution_count": 21,
   "metadata": {},
   "outputs": [],
   "source": [
    "#test model\n",
    "\n",
    "loss = nn.CrossEntropyLoss()\n",
    "\n",
    "#embedding_dim, vocab_dim, hidden_size, class_num, embedding\n",
    "\n",
    "net = ESIM(embedding_dim=100, vocab_dim=vocab_size, hidden_size=20, class_num=n_classes, embedding=None, pad_idx=pad_idx)\n",
    "\n",
    "optimizer = optim.SGD(net.parameters(), lr=0.01)\n",
    "\n",
    "for i, (inputs1, inputs2, targets, length_list1, length_list2) in enumerate(train_dataloader):\n",
    "    net.zero_grad()\n",
    "\n",
    "    probs = net(inputs1, length_list1, inputs2, length_list2)\n",
    "\n",
    "    loss = loss(probs, targets)\n",
    "\n",
    "    loss.backward()\n",
    "\n",
    "    optimizer.step()\n",
    "    break\n"
   ]
  },
  {
   "cell_type": "code",
   "execution_count": 24,
   "metadata": {},
   "outputs": [],
   "source": [
    "#Train\n",
    "def pretty_time(time, degree=1):\n",
    "    return str(int(time // 60)) + \"m\" + str(round(time % 60, degree)) if time > 60 else round(time, degree)\n",
    "\n",
    "def train():\n",
    "    \n",
    "    criterion =  nn.CrossEntropyLoss()\n",
    "\n",
    "    optimizer = optim.Adam(net.parameters(), lr=0.005)\n",
    "\n",
    "    epoch = 10\n",
    "\n",
    "    start_time = time.time()\n",
    "\n",
    "    loss_list = []\n",
    "\n",
    "    print(\"dataloader length: \", len(train_dataloader))\n",
    "\n",
    "    for i in range(epoch):\n",
    "        total_loss = 0.\n",
    "        for j, (inputs1, inputs2, targets, length_list1, length_list2) in enumerate(train_dataloader):\n",
    "\n",
    "            probs = net(inputs1, length_list1, inputs2, length_list2)\n",
    "\n",
    "            net.zero_grad()\n",
    "  \n",
    "            loss = criterion(probs, targets)\n",
    "            loss.backward()\n",
    "            torch.nn.utils.clip_grad_norm_(net.parameters(), 0.5)\n",
    "            optimizer.step()\n",
    "\n",
    "            total_loss += loss.item()\n",
    "            if (j+1) % 30 == 0 and j:\n",
    "                time_past = time.time() - start_time\n",
    "                cur_loss = total_loss\n",
    "                loss_list.append(cur_loss)\n",
    "                total_loss = 0\n",
    "                print(\"epoch: \", i, \"batch: \", round(j * batch_size), \" time: \", pretty_time(time_past), \"loss: \", cur_loss)\n",
    "\n",
    "    plt.plot(loss_list)\n",
    "\n",
    "    plt.show()"
   ]
  },
  {
   "cell_type": "code",
   "execution_count": 25,
   "metadata": {},
   "outputs": [
    {
     "output_type": "stream",
     "name": "stdout",
     "text": [
      "dataloader length:  125\n",
      "epoch:  0 batch:  11600  time:  14.0 loss:  31.758915662765503\n",
      "epoch:  0 batch:  23600  time:  27.6 loss:  29.585267961025238\n",
      "epoch:  0 batch:  35600  time:  40.7 loss:  27.718307435512543\n",
      "epoch:  0 batch:  47600  time:  54.0 loss:  26.029936134815216\n",
      "epoch:  1 batch:  11600  time:  1m9.4 loss:  23.666109144687653\n",
      "epoch:  1 batch:  23600  time:  1m23.3 loss:  22.76715987920761\n",
      "epoch:  1 batch:  35600  time:  1m36.7 loss:  21.459296941757202\n",
      "epoch:  1 batch:  47600  time:  1m50.0 loss:  20.266930758953094\n",
      "epoch:  2 batch:  11600  time:  2m5.3 loss:  19.291612684726715\n",
      "epoch:  2 batch:  23600  time:  2m19.2 loss:  18.63268083333969\n",
      "epoch:  2 batch:  35600  time:  2m32.4 loss:  17.97227120399475\n",
      "epoch:  2 batch:  47600  time:  2m45.6 loss:  17.14851999282837\n",
      "epoch:  3 batch:  11600  time:  3m1.0 loss:  16.322709769010544\n",
      "epoch:  3 batch:  23600  time:  3m14.5 loss:  15.982906430959702\n",
      "epoch:  3 batch:  35600  time:  3m27.8 loss:  15.57234811782837\n",
      "epoch:  3 batch:  47600  time:  3m41.1 loss:  15.067435771226883\n",
      "epoch:  4 batch:  11600  time:  3m55.1 loss:  13.979519665241241\n",
      "epoch:  4 batch:  23600  time:  4m6.8 loss:  14.075792729854584\n",
      "epoch:  4 batch:  35600  time:  4m18.3 loss:  13.797373682260513\n",
      "epoch:  4 batch:  47600  time:  4m29.8 loss:  13.282022625207901\n",
      "epoch:  5 batch:  11600  time:  4m43.1 loss:  12.524572789669037\n",
      "epoch:  5 batch:  23600  time:  4m55.6 loss:  12.594231903553009\n",
      "epoch:  5 batch:  35600  time:  5m7.4 loss:  12.41115227341652\n",
      "epoch:  5 batch:  47600  time:  5m18.9 loss:  11.578278809785843\n",
      "epoch:  6 batch:  11600  time:  5m32.5 loss:  11.367009282112122\n",
      "epoch:  6 batch:  23600  time:  5m44.9 loss:  11.260133385658264\n",
      "epoch:  6 batch:  35600  time:  5m58.5 loss:  10.953302204608917\n",
      "epoch:  6 batch:  47600  time:  6m10.8 loss:  10.561448216438293\n",
      "epoch:  7 batch:  11600  time:  6m27.0 loss:  10.133859068155289\n",
      "epoch:  7 batch:  23600  time:  6m42.7 loss:  10.478731662034988\n",
      "epoch:  7 batch:  35600  time:  6m54.3 loss:  9.879873812198639\n",
      "epoch:  7 batch:  47600  time:  7m5.7 loss:  9.418238654732704\n",
      "epoch:  8 batch:  11600  time:  7m19.8 loss:  8.958717986941338\n",
      "epoch:  8 batch:  23600  time:  7m31.5 loss:  9.744068711996078\n",
      "epoch:  8 batch:  35600  time:  7m44.2 loss:  9.122597798705101\n",
      "epoch:  8 batch:  47600  time:  7m55.7 loss:  8.296269997954369\n",
      "epoch:  9 batch:  11600  time:  8m9.0 loss:  8.116278111934662\n",
      "epoch:  9 batch:  23600  time:  8m22.2 loss:  8.91709280014038\n",
      "epoch:  9 batch:  35600  time:  8m34.4 loss:  9.17339988052845\n",
      "epoch:  9 batch:  47600  time:  8m46.3 loss:  8.034354895353317\n"
     ]
    },
    {
     "output_type": "display_data",
     "data": {
      "text/plain": "<Figure size 432x288 with 1 Axes>",
      "image/svg+xml": "<?xml version=\"1.0\" encoding=\"utf-8\" standalone=\"no\"?>\r\n<!DOCTYPE svg PUBLIC \"-//W3C//DTD SVG 1.1//EN\"\r\n  \"http://www.w3.org/Graphics/SVG/1.1/DTD/svg11.dtd\">\r\n<!-- Created with matplotlib (https://matplotlib.org/) -->\r\n<svg height=\"248.518125pt\" version=\"1.1\" viewBox=\"0 0 368.925 248.518125\" width=\"368.925pt\" xmlns=\"http://www.w3.org/2000/svg\" xmlns:xlink=\"http://www.w3.org/1999/xlink\">\r\n <metadata>\r\n  <rdf:RDF xmlns:cc=\"http://creativecommons.org/ns#\" xmlns:dc=\"http://purl.org/dc/elements/1.1/\" xmlns:rdf=\"http://www.w3.org/1999/02/22-rdf-syntax-ns#\">\r\n   <cc:Work>\r\n    <dc:type rdf:resource=\"http://purl.org/dc/dcmitype/StillImage\"/>\r\n    <dc:date>2021-03-21T22:59:32.389702</dc:date>\r\n    <dc:format>image/svg+xml</dc:format>\r\n    <dc:creator>\r\n     <cc:Agent>\r\n      <dc:title>Matplotlib v3.3.4, https://matplotlib.org/</dc:title>\r\n     </cc:Agent>\r\n    </dc:creator>\r\n   </cc:Work>\r\n  </rdf:RDF>\r\n </metadata>\r\n <defs>\r\n  <style type=\"text/css\">*{stroke-linecap:butt;stroke-linejoin:round;}</style>\r\n </defs>\r\n <g id=\"figure_1\">\r\n  <g id=\"patch_1\">\r\n   <path d=\"M -0 248.518125 \r\nL 368.925 248.518125 \r\nL 368.925 0 \r\nL -0 0 \r\nz\r\n\" style=\"fill:none;\"/>\r\n  </g>\r\n  <g id=\"axes_1\">\r\n   <g id=\"patch_2\">\r\n    <path d=\"M 26.925 224.64 \r\nL 361.725 224.64 \r\nL 361.725 7.2 \r\nL 26.925 7.2 \r\nz\r\n\" style=\"fill:#ffffff;\"/>\r\n   </g>\r\n   <g id=\"matplotlib.axis_1\">\r\n    <g id=\"xtick_1\">\r\n     <g id=\"line2d_1\">\r\n      <defs>\r\n       <path d=\"M 0 0 \r\nL 0 3.5 \r\n\" id=\"m15f43e4d14\" style=\"stroke:#000000;stroke-width:0.8;\"/>\r\n      </defs>\r\n      <g>\r\n       <use style=\"stroke:#000000;stroke-width:0.8;\" x=\"42.143182\" xlink:href=\"#m15f43e4d14\" y=\"224.64\"/>\r\n      </g>\r\n     </g>\r\n     <g id=\"text_1\">\r\n      <!-- 0 -->\r\n      <g transform=\"translate(38.961932 239.238438)scale(0.1 -0.1)\">\r\n       <defs>\r\n        <path d=\"M 31.78125 66.40625 \r\nQ 24.171875 66.40625 20.328125 58.90625 \r\nQ 16.5 51.421875 16.5 36.375 \r\nQ 16.5 21.390625 20.328125 13.890625 \r\nQ 24.171875 6.390625 31.78125 6.390625 \r\nQ 39.453125 6.390625 43.28125 13.890625 \r\nQ 47.125 21.390625 47.125 36.375 \r\nQ 47.125 51.421875 43.28125 58.90625 \r\nQ 39.453125 66.40625 31.78125 66.40625 \r\nz\r\nM 31.78125 74.21875 \r\nQ 44.046875 74.21875 50.515625 64.515625 \r\nQ 56.984375 54.828125 56.984375 36.375 \r\nQ 56.984375 17.96875 50.515625 8.265625 \r\nQ 44.046875 -1.421875 31.78125 -1.421875 \r\nQ 19.53125 -1.421875 13.0625 8.265625 \r\nQ 6.59375 17.96875 6.59375 36.375 \r\nQ 6.59375 54.828125 13.0625 64.515625 \r\nQ 19.53125 74.21875 31.78125 74.21875 \r\nz\r\n\" id=\"DejaVuSans-48\"/>\r\n       </defs>\r\n       <use xlink:href=\"#DejaVuSans-48\"/>\r\n      </g>\r\n     </g>\r\n    </g>\r\n    <g id=\"xtick_2\">\r\n     <g id=\"line2d_2\">\r\n      <g>\r\n       <use style=\"stroke:#000000;stroke-width:0.8;\" x=\"81.164161\" xlink:href=\"#m15f43e4d14\" y=\"224.64\"/>\r\n      </g>\r\n     </g>\r\n     <g id=\"text_2\">\r\n      <!-- 5 -->\r\n      <g transform=\"translate(77.982911 239.238438)scale(0.1 -0.1)\">\r\n       <defs>\r\n        <path d=\"M 10.796875 72.90625 \r\nL 49.515625 72.90625 \r\nL 49.515625 64.59375 \r\nL 19.828125 64.59375 \r\nL 19.828125 46.734375 \r\nQ 21.96875 47.46875 24.109375 47.828125 \r\nQ 26.265625 48.1875 28.421875 48.1875 \r\nQ 40.625 48.1875 47.75 41.5 \r\nQ 54.890625 34.8125 54.890625 23.390625 \r\nQ 54.890625 11.625 47.5625 5.09375 \r\nQ 40.234375 -1.421875 26.90625 -1.421875 \r\nQ 22.3125 -1.421875 17.546875 -0.640625 \r\nQ 12.796875 0.140625 7.71875 1.703125 \r\nL 7.71875 11.625 \r\nQ 12.109375 9.234375 16.796875 8.0625 \r\nQ 21.484375 6.890625 26.703125 6.890625 \r\nQ 35.15625 6.890625 40.078125 11.328125 \r\nQ 45.015625 15.765625 45.015625 23.390625 \r\nQ 45.015625 31 40.078125 35.4375 \r\nQ 35.15625 39.890625 26.703125 39.890625 \r\nQ 22.75 39.890625 18.8125 39.015625 \r\nQ 14.890625 38.140625 10.796875 36.28125 \r\nz\r\n\" id=\"DejaVuSans-53\"/>\r\n       </defs>\r\n       <use xlink:href=\"#DejaVuSans-53\"/>\r\n      </g>\r\n     </g>\r\n    </g>\r\n    <g id=\"xtick_3\">\r\n     <g id=\"line2d_3\">\r\n      <g>\r\n       <use style=\"stroke:#000000;stroke-width:0.8;\" x=\"120.18514\" xlink:href=\"#m15f43e4d14\" y=\"224.64\"/>\r\n      </g>\r\n     </g>\r\n     <g id=\"text_3\">\r\n      <!-- 10 -->\r\n      <g transform=\"translate(113.82264 239.238438)scale(0.1 -0.1)\">\r\n       <defs>\r\n        <path d=\"M 12.40625 8.296875 \r\nL 28.515625 8.296875 \r\nL 28.515625 63.921875 \r\nL 10.984375 60.40625 \r\nL 10.984375 69.390625 \r\nL 28.421875 72.90625 \r\nL 38.28125 72.90625 \r\nL 38.28125 8.296875 \r\nL 54.390625 8.296875 \r\nL 54.390625 0 \r\nL 12.40625 0 \r\nz\r\n\" id=\"DejaVuSans-49\"/>\r\n       </defs>\r\n       <use xlink:href=\"#DejaVuSans-49\"/>\r\n       <use x=\"63.623047\" xlink:href=\"#DejaVuSans-48\"/>\r\n      </g>\r\n     </g>\r\n    </g>\r\n    <g id=\"xtick_4\">\r\n     <g id=\"line2d_4\">\r\n      <g>\r\n       <use style=\"stroke:#000000;stroke-width:0.8;\" x=\"159.206119\" xlink:href=\"#m15f43e4d14\" y=\"224.64\"/>\r\n      </g>\r\n     </g>\r\n     <g id=\"text_4\">\r\n      <!-- 15 -->\r\n      <g transform=\"translate(152.843619 239.238438)scale(0.1 -0.1)\">\r\n       <use xlink:href=\"#DejaVuSans-49\"/>\r\n       <use x=\"63.623047\" xlink:href=\"#DejaVuSans-53\"/>\r\n      </g>\r\n     </g>\r\n    </g>\r\n    <g id=\"xtick_5\">\r\n     <g id=\"line2d_5\">\r\n      <g>\r\n       <use style=\"stroke:#000000;stroke-width:0.8;\" x=\"198.227098\" xlink:href=\"#m15f43e4d14\" y=\"224.64\"/>\r\n      </g>\r\n     </g>\r\n     <g id=\"text_5\">\r\n      <!-- 20 -->\r\n      <g transform=\"translate(191.864598 239.238438)scale(0.1 -0.1)\">\r\n       <defs>\r\n        <path d=\"M 19.1875 8.296875 \r\nL 53.609375 8.296875 \r\nL 53.609375 0 \r\nL 7.328125 0 \r\nL 7.328125 8.296875 \r\nQ 12.9375 14.109375 22.625 23.890625 \r\nQ 32.328125 33.6875 34.8125 36.53125 \r\nQ 39.546875 41.84375 41.421875 45.53125 \r\nQ 43.3125 49.21875 43.3125 52.78125 \r\nQ 43.3125 58.59375 39.234375 62.25 \r\nQ 35.15625 65.921875 28.609375 65.921875 \r\nQ 23.96875 65.921875 18.8125 64.3125 \r\nQ 13.671875 62.703125 7.8125 59.421875 \r\nL 7.8125 69.390625 \r\nQ 13.765625 71.78125 18.9375 73 \r\nQ 24.125 74.21875 28.421875 74.21875 \r\nQ 39.75 74.21875 46.484375 68.546875 \r\nQ 53.21875 62.890625 53.21875 53.421875 \r\nQ 53.21875 48.921875 51.53125 44.890625 \r\nQ 49.859375 40.875 45.40625 35.40625 \r\nQ 44.1875 33.984375 37.640625 27.21875 \r\nQ 31.109375 20.453125 19.1875 8.296875 \r\nz\r\n\" id=\"DejaVuSans-50\"/>\r\n       </defs>\r\n       <use xlink:href=\"#DejaVuSans-50\"/>\r\n       <use x=\"63.623047\" xlink:href=\"#DejaVuSans-48\"/>\r\n      </g>\r\n     </g>\r\n    </g>\r\n    <g id=\"xtick_6\">\r\n     <g id=\"line2d_6\">\r\n      <g>\r\n       <use style=\"stroke:#000000;stroke-width:0.8;\" x=\"237.248077\" xlink:href=\"#m15f43e4d14\" y=\"224.64\"/>\r\n      </g>\r\n     </g>\r\n     <g id=\"text_6\">\r\n      <!-- 25 -->\r\n      <g transform=\"translate(230.885577 239.238438)scale(0.1 -0.1)\">\r\n       <use xlink:href=\"#DejaVuSans-50\"/>\r\n       <use x=\"63.623047\" xlink:href=\"#DejaVuSans-53\"/>\r\n      </g>\r\n     </g>\r\n    </g>\r\n    <g id=\"xtick_7\">\r\n     <g id=\"line2d_7\">\r\n      <g>\r\n       <use style=\"stroke:#000000;stroke-width:0.8;\" x=\"276.269056\" xlink:href=\"#m15f43e4d14\" y=\"224.64\"/>\r\n      </g>\r\n     </g>\r\n     <g id=\"text_7\">\r\n      <!-- 30 -->\r\n      <g transform=\"translate(269.906556 239.238438)scale(0.1 -0.1)\">\r\n       <defs>\r\n        <path d=\"M 40.578125 39.3125 \r\nQ 47.65625 37.796875 51.625 33 \r\nQ 55.609375 28.21875 55.609375 21.1875 \r\nQ 55.609375 10.40625 48.1875 4.484375 \r\nQ 40.765625 -1.421875 27.09375 -1.421875 \r\nQ 22.515625 -1.421875 17.65625 -0.515625 \r\nQ 12.796875 0.390625 7.625 2.203125 \r\nL 7.625 11.71875 \r\nQ 11.71875 9.328125 16.59375 8.109375 \r\nQ 21.484375 6.890625 26.8125 6.890625 \r\nQ 36.078125 6.890625 40.9375 10.546875 \r\nQ 45.796875 14.203125 45.796875 21.1875 \r\nQ 45.796875 27.640625 41.28125 31.265625 \r\nQ 36.765625 34.90625 28.71875 34.90625 \r\nL 20.21875 34.90625 \r\nL 20.21875 43.015625 \r\nL 29.109375 43.015625 \r\nQ 36.375 43.015625 40.234375 45.921875 \r\nQ 44.09375 48.828125 44.09375 54.296875 \r\nQ 44.09375 59.90625 40.109375 62.90625 \r\nQ 36.140625 65.921875 28.71875 65.921875 \r\nQ 24.65625 65.921875 20.015625 65.03125 \r\nQ 15.375 64.15625 9.8125 62.3125 \r\nL 9.8125 71.09375 \r\nQ 15.4375 72.65625 20.34375 73.4375 \r\nQ 25.25 74.21875 29.59375 74.21875 \r\nQ 40.828125 74.21875 47.359375 69.109375 \r\nQ 53.90625 64.015625 53.90625 55.328125 \r\nQ 53.90625 49.265625 50.4375 45.09375 \r\nQ 46.96875 40.921875 40.578125 39.3125 \r\nz\r\n\" id=\"DejaVuSans-51\"/>\r\n       </defs>\r\n       <use xlink:href=\"#DejaVuSans-51\"/>\r\n       <use x=\"63.623047\" xlink:href=\"#DejaVuSans-48\"/>\r\n      </g>\r\n     </g>\r\n    </g>\r\n    <g id=\"xtick_8\">\r\n     <g id=\"line2d_8\">\r\n      <g>\r\n       <use style=\"stroke:#000000;stroke-width:0.8;\" x=\"315.290035\" xlink:href=\"#m15f43e4d14\" y=\"224.64\"/>\r\n      </g>\r\n     </g>\r\n     <g id=\"text_8\">\r\n      <!-- 35 -->\r\n      <g transform=\"translate(308.927535 239.238438)scale(0.1 -0.1)\">\r\n       <use xlink:href=\"#DejaVuSans-51\"/>\r\n       <use x=\"63.623047\" xlink:href=\"#DejaVuSans-53\"/>\r\n      </g>\r\n     </g>\r\n    </g>\r\n    <g id=\"xtick_9\">\r\n     <g id=\"line2d_9\">\r\n      <g>\r\n       <use style=\"stroke:#000000;stroke-width:0.8;\" x=\"354.311014\" xlink:href=\"#m15f43e4d14\" y=\"224.64\"/>\r\n      </g>\r\n     </g>\r\n     <g id=\"text_9\">\r\n      <!-- 40 -->\r\n      <g transform=\"translate(347.948514 239.238438)scale(0.1 -0.1)\">\r\n       <defs>\r\n        <path d=\"M 37.796875 64.3125 \r\nL 12.890625 25.390625 \r\nL 37.796875 25.390625 \r\nz\r\nM 35.203125 72.90625 \r\nL 47.609375 72.90625 \r\nL 47.609375 25.390625 \r\nL 58.015625 25.390625 \r\nL 58.015625 17.1875 \r\nL 47.609375 17.1875 \r\nL 47.609375 0 \r\nL 37.796875 0 \r\nL 37.796875 17.1875 \r\nL 4.890625 17.1875 \r\nL 4.890625 26.703125 \r\nz\r\n\" id=\"DejaVuSans-52\"/>\r\n       </defs>\r\n       <use xlink:href=\"#DejaVuSans-52\"/>\r\n       <use x=\"63.623047\" xlink:href=\"#DejaVuSans-48\"/>\r\n      </g>\r\n     </g>\r\n    </g>\r\n   </g>\r\n   <g id=\"matplotlib.axis_2\">\r\n    <g id=\"ytick_1\">\r\n     <g id=\"line2d_10\">\r\n      <defs>\r\n       <path d=\"M 0 0 \r\nL -3.5 0 \r\n\" id=\"m5291aff30b\" style=\"stroke:#000000;stroke-width:0.8;\"/>\r\n      </defs>\r\n      <g>\r\n       <use style=\"stroke:#000000;stroke-width:0.8;\" x=\"26.925\" xlink:href=\"#m5291aff30b\" y=\"198.378635\"/>\r\n      </g>\r\n     </g>\r\n     <g id=\"text_10\">\r\n      <!-- 10 -->\r\n      <g transform=\"translate(7.2 202.177853)scale(0.1 -0.1)\">\r\n       <use xlink:href=\"#DejaVuSans-49\"/>\r\n       <use x=\"63.623047\" xlink:href=\"#DejaVuSans-48\"/>\r\n      </g>\r\n     </g>\r\n    </g>\r\n    <g id=\"ytick_2\">\r\n     <g id=\"line2d_11\">\r\n      <g>\r\n       <use style=\"stroke:#000000;stroke-width:0.8;\" x=\"26.925\" xlink:href=\"#m5291aff30b\" y=\"156.718701\"/>\r\n      </g>\r\n     </g>\r\n     <g id=\"text_11\">\r\n      <!-- 15 -->\r\n      <g transform=\"translate(7.2 160.517919)scale(0.1 -0.1)\">\r\n       <use xlink:href=\"#DejaVuSans-49\"/>\r\n       <use x=\"63.623047\" xlink:href=\"#DejaVuSans-53\"/>\r\n      </g>\r\n     </g>\r\n    </g>\r\n    <g id=\"ytick_3\">\r\n     <g id=\"line2d_12\">\r\n      <g>\r\n       <use style=\"stroke:#000000;stroke-width:0.8;\" x=\"26.925\" xlink:href=\"#m5291aff30b\" y=\"115.058767\"/>\r\n      </g>\r\n     </g>\r\n     <g id=\"text_12\">\r\n      <!-- 20 -->\r\n      <g transform=\"translate(7.2 118.857985)scale(0.1 -0.1)\">\r\n       <use xlink:href=\"#DejaVuSans-50\"/>\r\n       <use x=\"63.623047\" xlink:href=\"#DejaVuSans-48\"/>\r\n      </g>\r\n     </g>\r\n    </g>\r\n    <g id=\"ytick_4\">\r\n     <g id=\"line2d_13\">\r\n      <g>\r\n       <use style=\"stroke:#000000;stroke-width:0.8;\" x=\"26.925\" xlink:href=\"#m5291aff30b\" y=\"73.398832\"/>\r\n      </g>\r\n     </g>\r\n     <g id=\"text_13\">\r\n      <!-- 25 -->\r\n      <g transform=\"translate(7.2 77.198051)scale(0.1 -0.1)\">\r\n       <use xlink:href=\"#DejaVuSans-50\"/>\r\n       <use x=\"63.623047\" xlink:href=\"#DejaVuSans-53\"/>\r\n      </g>\r\n     </g>\r\n    </g>\r\n    <g id=\"ytick_5\">\r\n     <g id=\"line2d_14\">\r\n      <g>\r\n       <use style=\"stroke:#000000;stroke-width:0.8;\" x=\"26.925\" xlink:href=\"#m5291aff30b\" y=\"31.738898\"/>\r\n      </g>\r\n     </g>\r\n     <g id=\"text_14\">\r\n      <!-- 30 -->\r\n      <g transform=\"translate(7.2 35.538117)scale(0.1 -0.1)\">\r\n       <use xlink:href=\"#DejaVuSans-51\"/>\r\n       <use x=\"63.623047\" xlink:href=\"#DejaVuSans-48\"/>\r\n      </g>\r\n     </g>\r\n    </g>\r\n   </g>\r\n   <g id=\"line2d_15\">\r\n    <path clip-path=\"url(#p78e9161342)\" d=\"M 42.143182 17.083636 \r\nL 49.947378 35.19444 \r\nL 57.751573 50.749931 \r\nL 65.555769 64.817418 \r\nL 73.359965 84.512793 \r\nL 81.164161 92.002827 \r\nL 88.968357 102.899924 \r\nL 96.772552 112.834703 \r\nL 104.576748 120.96104 \r\nL 112.380944 126.451252 \r\nL 120.18514 131.953776 \r\nL 127.989336 138.81726 \r\nL 135.793531 145.6979 \r\nL 143.597727 148.529137 \r\nL 151.401923 151.949904 \r\nL 159.206119 156.156827 \r\nL 167.010315 165.221329 \r\nL 174.81451 164.419183 \r\nL 182.618706 166.738967 \r\nL 190.422902 171.032865 \r\nL 198.227098 177.343927 \r\nL 206.031294 176.763529 \r\nL 213.83549 178.288946 \r\nL 221.639685 185.228436 \r\nL 229.443881 186.988731 \r\nL 237.248077 187.87922 \r\nL 245.052273 190.435733 \r\nL 252.856469 193.700655 \r\nL 260.660664 197.263323 \r\nL 268.46486 194.389849 \r\nL 276.269056 199.379524 \r\nL 284.073252 203.225862 \r\nL 291.877448 207.054583 \r\nL 299.681643 200.511051 \r\nL 307.485839 205.689138 \r\nL 315.290035 212.57409 \r\nL 323.094231 214.07378 \r\nL 330.898427 207.401403 \r\nL 338.702622 205.265856 \r\nL 346.506818 214.756364 \r\n\" style=\"fill:none;stroke:#1f77b4;stroke-linecap:square;stroke-width:1.5;\"/>\r\n   </g>\r\n   <g id=\"patch_3\">\r\n    <path d=\"M 26.925 224.64 \r\nL 26.925 7.2 \r\n\" style=\"fill:none;stroke:#000000;stroke-linecap:square;stroke-linejoin:miter;stroke-width:0.8;\"/>\r\n   </g>\r\n   <g id=\"patch_4\">\r\n    <path d=\"M 361.725 224.64 \r\nL 361.725 7.2 \r\n\" style=\"fill:none;stroke:#000000;stroke-linecap:square;stroke-linejoin:miter;stroke-width:0.8;\"/>\r\n   </g>\r\n   <g id=\"patch_5\">\r\n    <path d=\"M 26.925 224.64 \r\nL 361.725 224.64 \r\n\" style=\"fill:none;stroke:#000000;stroke-linecap:square;stroke-linejoin:miter;stroke-width:0.8;\"/>\r\n   </g>\r\n   <g id=\"patch_6\">\r\n    <path d=\"M 26.925 7.2 \r\nL 361.725 7.2 \r\n\" style=\"fill:none;stroke:#000000;stroke-linecap:square;stroke-linejoin:miter;stroke-width:0.8;\"/>\r\n   </g>\r\n  </g>\r\n </g>\r\n <defs>\r\n  <clipPath id=\"p78e9161342\">\r\n   <rect height=\"217.44\" width=\"334.8\" x=\"26.925\" y=\"7.2\"/>\r\n  </clipPath>\r\n </defs>\r\n</svg>\r\n",
      "image/png": "[encoded data removed]"
     },
     "metadata": {
      "needs_background": "light"
     }
    }
   ],
   "source": [
    "net = ESIM(embedding_dim=100, vocab_dim=vocab_size, hidden_size=20, class_num=n_classes, embedding=None, pad_idx=pad_idx)\n",
    "\n",
    "train()"
   ]
  },
  {
   "cell_type": "code",
   "execution_count": null,
   "metadata": {},
   "outputs": [],
   "source": [
    "#WTF? too  fXXXXXXX slow , let's take a break "
   ]
  },
  {
   "cell_type": "code",
   "execution_count": 30,
   "metadata": {},
   "outputs": [],
   "source": [
    "def test():\n",
    "    count = 0\n",
    "    i = 0\n",
    "    from collections import Counter\n",
    "    with torch.no_grad():\n",
    "        for j, (inputs1, inputs2, targets, length_list1, length_list2) in enumerate(test_dataloader):\n",
    "            probs = net(inputs1, length_list1, inputs2, length_list2)\n",
    "            count += Counter((torch.argmax(probs, dim=1) - targets).tolist())[0]\n",
    "            i = j\n",
    "    print(\"acc_val: \", count / (j*batch_size))\n",
    "    distribution = Counter(y_dev)\n",
    "    print(distribution)\n",
    "    print([i/len(y_dev) for i in distribution.values()])\n"
   ]
  },
  {
   "cell_type": "code",
   "execution_count": 31,
   "metadata": {},
   "outputs": [
    {
     "output_type": "stream",
     "name": "stdout",
     "text": [
      "acc_val:  0.71125\nCounter({1: 3329, 0: 3278, 2: 3235})\n[0.3286933550091445, 0.3382442592968909, 0.3330623856939646]\n"
     ]
    }
   ],
   "source": [
    "test()"
   ]
  },
  {
   "cell_type": "code",
   "execution_count": 32,
   "metadata": {},
   "outputs": [],
   "source": [
    "#get the pre-trained glove embedding vectors\n",
    "EMBEDDING_SIZE = 100\n",
    "\n",
    "def read_glove(path):\n",
    "    #the function copied from yjqiang\n",
    "    embedding = []\n",
    "    word2id = {}\n",
    "    with open(path, 'r', encoding='UTF-8') as f:\n",
    "        for index, line in enumerate(f):\n",
    "            line = line.rstrip('\\n')  # remove the newline character\n",
    "            if line:  # 移除空白行\n",
    "                list_line = line.split()\n",
    "                embedding.append([float(value) for value in list_line[1:]])\n",
    "                word2id[list_line[0]] = index  # word = list_line[0]\n",
    "    return embedding, word2id\n",
    "\n",
    "list_embedding, word2idx = read_glove(\"../data/glove.6B.100d.txt\")"
   ]
  },
  {
   "cell_type": "code",
   "execution_count": 34,
   "metadata": {},
   "outputs": [],
   "source": [
    "# build dict & handle unknown word\n",
    "\n",
    "pad_idx = len(list_embedding)\n",
    "list_embedding.append(torch.zeros(EMBEDDING_SIZE, dtype=torch.float).tolist())\n",
    "word2idx['<pad>'] = pad_idx\n",
    "\n",
    "unk_idx = len(word2idx)\n",
    "word2idx['<unknown>'] = unk_idx\n",
    "\n",
    "vocab_size = len(word2idx)\n",
    "\n",
    "tensor_embedding = torch.tensor(list_embedding)\n",
    "EMBEDDING = nn.Embedding.from_pretrained(tensor_embedding, freeze=False, padding_idx=pad_idx)"
   ]
  },
  {
   "cell_type": "code",
   "execution_count": 36,
   "metadata": {},
   "outputs": [],
   "source": [
    "train_dataloader = get_dataloader(x_train1, x_train2, y_train)\n",
    "\n",
    "test_dataloader = get_dataloader(x_dev1, x_dev2, y_dev)"
   ]
  },
  {
   "cell_type": "code",
   "execution_count": 37,
   "metadata": {},
   "outputs": [
    {
     "output_type": "stream",
     "name": "stdout",
     "text": [
      "dataloader length:  125\n",
      "epoch:  0 batch:  11600  time:  37.8 loss:  31.862578749656677\n",
      "epoch:  0 batch:  23600  time:  1m15.3 loss:  29.064707696437836\n",
      "epoch:  0 batch:  35600  time:  1m52.4 loss:  26.901236474514008\n",
      "epoch:  0 batch:  47600  time:  2m29.5 loss:  25.2399200797081\n",
      "epoch:  1 batch:  11600  time:  3m12.8 loss:  23.371565341949463\n",
      "epoch:  1 batch:  23600  time:  3m50.2 loss:  22.445051789283752\n",
      "epoch:  1 batch:  35600  time:  4m28.9 loss:  21.352614045143127\n",
      "epoch:  1 batch:  47600  time:  5m6.7 loss:  20.138440430164337\n",
      "epoch:  2 batch:  11600  time:  5m50.6 loss:  19.35223078727722\n",
      "epoch:  2 batch:  23600  time:  6m27.5 loss:  19.110884428024292\n",
      "epoch:  2 batch:  35600  time:  7m4.6 loss:  18.2581707239151\n",
      "epoch:  2 batch:  47600  time:  7m42.2 loss:  17.171920508146286\n",
      "epoch:  3 batch:  11600  time:  8m25.5 loss:  16.64556136727333\n",
      "epoch:  3 batch:  23600  time:  9m3.9 loss:  16.626026898622513\n",
      "epoch:  3 batch:  35600  time:  9m40.6 loss:  15.897494107484818\n",
      "epoch:  3 batch:  47600  time:  10m17.5 loss:  14.980510801076889\n",
      "epoch:  4 batch:  11600  time:  11m0.7 loss:  14.499098807573318\n",
      "epoch:  4 batch:  23600  time:  11m36.4 loss:  14.502948701381683\n",
      "epoch:  4 batch:  35600  time:  12m8.2 loss:  14.015282601118088\n",
      "epoch:  4 batch:  47600  time:  12m42.2 loss:  13.35061565041542\n",
      "epoch:  5 batch:  11600  time:  13m25.6 loss:  12.843196749687195\n",
      "epoch:  5 batch:  23600  time:  14m2.9 loss:  12.860774844884872\n",
      "epoch:  5 batch:  35600  time:  14m34.6 loss:  12.408123672008514\n",
      "epoch:  5 batch:  47600  time:  15m6.5 loss:  11.951727271080017\n",
      "epoch:  6 batch:  11600  time:  15m45.8 loss:  12.08333107829094\n",
      "epoch:  6 batch:  23600  time:  16m18.0 loss:  11.87478432059288\n",
      "epoch:  6 batch:  35600  time:  16m50.1 loss:  11.235773891210556\n",
      "epoch:  6 batch:  47600  time:  17m22.5 loss:  11.042967528104782\n",
      "epoch:  7 batch:  11600  time:  17m59.9 loss:  10.75682082772255\n",
      "epoch:  7 batch:  23600  time:  18m33.0 loss:  10.695663124322891\n",
      "epoch:  7 batch:  35600  time:  19m8.9 loss:  10.283161610364914\n",
      "epoch:  7 batch:  47600  time:  19m48.1 loss:  10.002261087298393\n",
      "epoch:  8 batch:  11600  time:  20m33.2 loss:  9.776437565684319\n",
      "epoch:  8 batch:  23600  time:  21m13.7 loss:  9.621832758188248\n",
      "epoch:  8 batch:  35600  time:  21m51.2 loss:  9.236470967531204\n",
      "epoch:  8 batch:  47600  time:  22m28.9 loss:  9.496544927358627\n",
      "epoch:  9 batch:  11600  time:  23m13.3 loss:  8.54471641778946\n",
      "epoch:  9 batch:  23600  time:  23m53.1 loss:  8.819317370653152\n",
      "epoch:  9 batch:  35600  time:  24m28.3 loss:  8.27514000236988\n",
      "epoch:  9 batch:  47600  time:  25m0.8 loss:  8.442314103245735\n"
     ]
    },
    {
     "output_type": "display_data",
     "data": {
      "text/plain": "<Figure size 432x288 with 1 Axes>",
      "image/svg+xml": "<?xml version=\"1.0\" encoding=\"utf-8\" standalone=\"no\"?>\r\n<!DOCTYPE svg PUBLIC \"-//W3C//DTD SVG 1.1//EN\"\r\n  \"http://www.w3.org/Graphics/SVG/1.1/DTD/svg11.dtd\">\r\n<!-- Created with matplotlib (https://matplotlib.org/) -->\r\n<svg height=\"248.518125pt\" version=\"1.1\" viewBox=\"0 0 368.925 248.518125\" width=\"368.925pt\" xmlns=\"http://www.w3.org/2000/svg\" xmlns:xlink=\"http://www.w3.org/1999/xlink\">\r\n <metadata>\r\n  <rdf:RDF xmlns:cc=\"http://creativecommons.org/ns#\" xmlns:dc=\"http://purl.org/dc/elements/1.1/\" xmlns:rdf=\"http://www.w3.org/1999/02/22-rdf-syntax-ns#\">\r\n   <cc:Work>\r\n    <dc:type rdf:resource=\"http://purl.org/dc/dcmitype/StillImage\"/>\r\n    <dc:date>2021-03-21T23:27:09.938073</dc:date>\r\n    <dc:format>image/svg+xml</dc:format>\r\n    <dc:creator>\r\n     <cc:Agent>\r\n      <dc:title>Matplotlib v3.3.4, https://matplotlib.org/</dc:title>\r\n     </cc:Agent>\r\n    </dc:creator>\r\n   </cc:Work>\r\n  </rdf:RDF>\r\n </metadata>\r\n <defs>\r\n  <style type=\"text/css\">*{stroke-linecap:butt;stroke-linejoin:round;}</style>\r\n </defs>\r\n <g id=\"figure_1\">\r\n  <g id=\"patch_1\">\r\n   <path d=\"M -0 248.518125 \r\nL 368.925 248.518125 \r\nL 368.925 0 \r\nL -0 0 \r\nz\r\n\" style=\"fill:none;\"/>\r\n  </g>\r\n  <g id=\"axes_1\">\r\n   <g id=\"patch_2\">\r\n    <path d=\"M 26.925 224.64 \r\nL 361.725 224.64 \r\nL 361.725 7.2 \r\nL 26.925 7.2 \r\nz\r\n\" style=\"fill:#ffffff;\"/>\r\n   </g>\r\n   <g id=\"matplotlib.axis_1\">\r\n    <g id=\"xtick_1\">\r\n     <g id=\"line2d_1\">\r\n      <defs>\r\n       <path d=\"M 0 0 \r\nL 0 3.5 \r\n\" id=\"m7fa5ccebec\" style=\"stroke:#000000;stroke-width:0.8;\"/>\r\n      </defs>\r\n      <g>\r\n       <use style=\"stroke:#000000;stroke-width:0.8;\" x=\"42.143182\" xlink:href=\"#m7fa5ccebec\" y=\"224.64\"/>\r\n      </g>\r\n     </g>\r\n     <g id=\"text_1\">\r\n      <!-- 0 -->\r\n      <g transform=\"translate(38.961932 239.238437)scale(0.1 -0.1)\">\r\n       <defs>\r\n        <path d=\"M 31.78125 66.40625 \r\nQ 24.171875 66.40625 20.328125 58.90625 \r\nQ 16.5 51.421875 16.5 36.375 \r\nQ 16.5 21.390625 20.328125 13.890625 \r\nQ 24.171875 6.390625 31.78125 6.390625 \r\nQ 39.453125 6.390625 43.28125 13.890625 \r\nQ 47.125 21.390625 47.125 36.375 \r\nQ 47.125 51.421875 43.28125 58.90625 \r\nQ 39.453125 66.40625 31.78125 66.40625 \r\nz\r\nM 31.78125 74.21875 \r\nQ 44.046875 74.21875 50.515625 64.515625 \r\nQ 56.984375 54.828125 56.984375 36.375 \r\nQ 56.984375 17.96875 50.515625 8.265625 \r\nQ 44.046875 -1.421875 31.78125 -1.421875 \r\nQ 19.53125 -1.421875 13.0625 8.265625 \r\nQ 6.59375 17.96875 6.59375 36.375 \r\nQ 6.59375 54.828125 13.0625 64.515625 \r\nQ 19.53125 74.21875 31.78125 74.21875 \r\nz\r\n\" id=\"DejaVuSans-48\"/>\r\n       </defs>\r\n       <use xlink:href=\"#DejaVuSans-48\"/>\r\n      </g>\r\n     </g>\r\n    </g>\r\n    <g id=\"xtick_2\">\r\n     <g id=\"line2d_2\">\r\n      <g>\r\n       <use style=\"stroke:#000000;stroke-width:0.8;\" x=\"81.164161\" xlink:href=\"#m7fa5ccebec\" y=\"224.64\"/>\r\n      </g>\r\n     </g>\r\n     <g id=\"text_2\">\r\n      <!-- 5 -->\r\n      <g transform=\"translate(77.982911 239.238437)scale(0.1 -0.1)\">\r\n       <defs>\r\n        <path d=\"M 10.796875 72.90625 \r\nL 49.515625 72.90625 \r\nL 49.515625 64.59375 \r\nL 19.828125 64.59375 \r\nL 19.828125 46.734375 \r\nQ 21.96875 47.46875 24.109375 47.828125 \r\nQ 26.265625 48.1875 28.421875 48.1875 \r\nQ 40.625 48.1875 47.75 41.5 \r\nQ 54.890625 34.8125 54.890625 23.390625 \r\nQ 54.890625 11.625 47.5625 5.09375 \r\nQ 40.234375 -1.421875 26.90625 -1.421875 \r\nQ 22.3125 -1.421875 17.546875 -0.640625 \r\nQ 12.796875 0.140625 7.71875 1.703125 \r\nL 7.71875 11.625 \r\nQ 12.109375 9.234375 16.796875 8.0625 \r\nQ 21.484375 6.890625 26.703125 6.890625 \r\nQ 35.15625 6.890625 40.078125 11.328125 \r\nQ 45.015625 15.765625 45.015625 23.390625 \r\nQ 45.015625 31 40.078125 35.4375 \r\nQ 35.15625 39.890625 26.703125 39.890625 \r\nQ 22.75 39.890625 18.8125 39.015625 \r\nQ 14.890625 38.140625 10.796875 36.28125 \r\nz\r\n\" id=\"DejaVuSans-53\"/>\r\n       </defs>\r\n       <use xlink:href=\"#DejaVuSans-53\"/>\r\n      </g>\r\n     </g>\r\n    </g>\r\n    <g id=\"xtick_3\">\r\n     <g id=\"line2d_3\">\r\n      <g>\r\n       <use style=\"stroke:#000000;stroke-width:0.8;\" x=\"120.18514\" xlink:href=\"#m7fa5ccebec\" y=\"224.64\"/>\r\n      </g>\r\n     </g>\r\n     <g id=\"text_3\">\r\n      <!-- 10 -->\r\n      <g transform=\"translate(113.82264 239.238437)scale(0.1 -0.1)\">\r\n       <defs>\r\n        <path d=\"M 12.40625 8.296875 \r\nL 28.515625 8.296875 \r\nL 28.515625 63.921875 \r\nL 10.984375 60.40625 \r\nL 10.984375 69.390625 \r\nL 28.421875 72.90625 \r\nL 38.28125 72.90625 \r\nL 38.28125 8.296875 \r\nL 54.390625 8.296875 \r\nL 54.390625 0 \r\nL 12.40625 0 \r\nz\r\n\" id=\"DejaVuSans-49\"/>\r\n       </defs>\r\n       <use xlink:href=\"#DejaVuSans-49\"/>\r\n       <use x=\"63.623047\" xlink:href=\"#DejaVuSans-48\"/>\r\n      </g>\r\n     </g>\r\n    </g>\r\n    <g id=\"xtick_4\">\r\n     <g id=\"line2d_4\">\r\n      <g>\r\n       <use style=\"stroke:#000000;stroke-width:0.8;\" x=\"159.206119\" xlink:href=\"#m7fa5ccebec\" y=\"224.64\"/>\r\n      </g>\r\n     </g>\r\n     <g id=\"text_4\">\r\n      <!-- 15 -->\r\n      <g transform=\"translate(152.843619 239.238437)scale(0.1 -0.1)\">\r\n       <use xlink:href=\"#DejaVuSans-49\"/>\r\n       <use x=\"63.623047\" xlink:href=\"#DejaVuSans-53\"/>\r\n      </g>\r\n     </g>\r\n    </g>\r\n    <g id=\"xtick_5\">\r\n     <g id=\"line2d_5\">\r\n      <g>\r\n       <use style=\"stroke:#000000;stroke-width:0.8;\" x=\"198.227098\" xlink:href=\"#m7fa5ccebec\" y=\"224.64\"/>\r\n      </g>\r\n     </g>\r\n     <g id=\"text_5\">\r\n      <!-- 20 -->\r\n      <g transform=\"translate(191.864598 239.238437)scale(0.1 -0.1)\">\r\n       <defs>\r\n        <path d=\"M 19.1875 8.296875 \r\nL 53.609375 8.296875 \r\nL 53.609375 0 \r\nL 7.328125 0 \r\nL 7.328125 8.296875 \r\nQ 12.9375 14.109375 22.625 23.890625 \r\nQ 32.328125 33.6875 34.8125 36.53125 \r\nQ 39.546875 41.84375 41.421875 45.53125 \r\nQ 43.3125 49.21875 43.3125 52.78125 \r\nQ 43.3125 58.59375 39.234375 62.25 \r\nQ 35.15625 65.921875 28.609375 65.921875 \r\nQ 23.96875 65.921875 18.8125 64.3125 \r\nQ 13.671875 62.703125 7.8125 59.421875 \r\nL 7.8125 69.390625 \r\nQ 13.765625 71.78125 18.9375 73 \r\nQ 24.125 74.21875 28.421875 74.21875 \r\nQ 39.75 74.21875 46.484375 68.546875 \r\nQ 53.21875 62.890625 53.21875 53.421875 \r\nQ 53.21875 48.921875 51.53125 44.890625 \r\nQ 49.859375 40.875 45.40625 35.40625 \r\nQ 44.1875 33.984375 37.640625 27.21875 \r\nQ 31.109375 20.453125 19.1875 8.296875 \r\nz\r\n\" id=\"DejaVuSans-50\"/>\r\n       </defs>\r\n       <use xlink:href=\"#DejaVuSans-50\"/>\r\n       <use x=\"63.623047\" xlink:href=\"#DejaVuSans-48\"/>\r\n      </g>\r\n     </g>\r\n    </g>\r\n    <g id=\"xtick_6\">\r\n     <g id=\"line2d_6\">\r\n      <g>\r\n       <use style=\"stroke:#000000;stroke-width:0.8;\" x=\"237.248077\" xlink:href=\"#m7fa5ccebec\" y=\"224.64\"/>\r\n      </g>\r\n     </g>\r\n     <g id=\"text_6\">\r\n      <!-- 25 -->\r\n      <g transform=\"translate(230.885577 239.238437)scale(0.1 -0.1)\">\r\n       <use xlink:href=\"#DejaVuSans-50\"/>\r\n       <use x=\"63.623047\" xlink:href=\"#DejaVuSans-53\"/>\r\n      </g>\r\n     </g>\r\n    </g>\r\n    <g id=\"xtick_7\">\r\n     <g id=\"line2d_7\">\r\n      <g>\r\n       <use style=\"stroke:#000000;stroke-width:0.8;\" x=\"276.269056\" xlink:href=\"#m7fa5ccebec\" y=\"224.64\"/>\r\n      </g>\r\n     </g>\r\n     <g id=\"text_7\">\r\n      <!-- 30 -->\r\n      <g transform=\"translate(269.906556 239.238437)scale(0.1 -0.1)\">\r\n       <defs>\r\n        <path d=\"M 40.578125 39.3125 \r\nQ 47.65625 37.796875 51.625 33 \r\nQ 55.609375 28.21875 55.609375 21.1875 \r\nQ 55.609375 10.40625 48.1875 4.484375 \r\nQ 40.765625 -1.421875 27.09375 -1.421875 \r\nQ 22.515625 -1.421875 17.65625 -0.515625 \r\nQ 12.796875 0.390625 7.625 2.203125 \r\nL 7.625 11.71875 \r\nQ 11.71875 9.328125 16.59375 8.109375 \r\nQ 21.484375 6.890625 26.8125 6.890625 \r\nQ 36.078125 6.890625 40.9375 10.546875 \r\nQ 45.796875 14.203125 45.796875 21.1875 \r\nQ 45.796875 27.640625 41.28125 31.265625 \r\nQ 36.765625 34.90625 28.71875 34.90625 \r\nL 20.21875 34.90625 \r\nL 20.21875 43.015625 \r\nL 29.109375 43.015625 \r\nQ 36.375 43.015625 40.234375 45.921875 \r\nQ 44.09375 48.828125 44.09375 54.296875 \r\nQ 44.09375 59.90625 40.109375 62.90625 \r\nQ 36.140625 65.921875 28.71875 65.921875 \r\nQ 24.65625 65.921875 20.015625 65.03125 \r\nQ 15.375 64.15625 9.8125 62.3125 \r\nL 9.8125 71.09375 \r\nQ 15.4375 72.65625 20.34375 73.4375 \r\nQ 25.25 74.21875 29.59375 74.21875 \r\nQ 40.828125 74.21875 47.359375 69.109375 \r\nQ 53.90625 64.015625 53.90625 55.328125 \r\nQ 53.90625 49.265625 50.4375 45.09375 \r\nQ 46.96875 40.921875 40.578125 39.3125 \r\nz\r\n\" id=\"DejaVuSans-51\"/>\r\n       </defs>\r\n       <use xlink:href=\"#DejaVuSans-51\"/>\r\n       <use x=\"63.623047\" xlink:href=\"#DejaVuSans-48\"/>\r\n      </g>\r\n     </g>\r\n    </g>\r\n    <g id=\"xtick_8\">\r\n     <g id=\"line2d_8\">\r\n      <g>\r\n       <use style=\"stroke:#000000;stroke-width:0.8;\" x=\"315.290035\" xlink:href=\"#m7fa5ccebec\" y=\"224.64\"/>\r\n      </g>\r\n     </g>\r\n     <g id=\"text_8\">\r\n      <!-- 35 -->\r\n      <g transform=\"translate(308.927535 239.238437)scale(0.1 -0.1)\">\r\n       <use xlink:href=\"#DejaVuSans-51\"/>\r\n       <use x=\"63.623047\" xlink:href=\"#DejaVuSans-53\"/>\r\n      </g>\r\n     </g>\r\n    </g>\r\n    <g id=\"xtick_9\">\r\n     <g id=\"line2d_9\">\r\n      <g>\r\n       <use style=\"stroke:#000000;stroke-width:0.8;\" x=\"354.311014\" xlink:href=\"#m7fa5ccebec\" y=\"224.64\"/>\r\n      </g>\r\n     </g>\r\n     <g id=\"text_9\">\r\n      <!-- 40 -->\r\n      <g transform=\"translate(347.948514 239.238437)scale(0.1 -0.1)\">\r\n       <defs>\r\n        <path d=\"M 37.796875 64.3125 \r\nL 12.890625 25.390625 \r\nL 37.796875 25.390625 \r\nz\r\nM 35.203125 72.90625 \r\nL 47.609375 72.90625 \r\nL 47.609375 25.390625 \r\nL 58.015625 25.390625 \r\nL 58.015625 17.1875 \r\nL 47.609375 17.1875 \r\nL 47.609375 0 \r\nL 37.796875 0 \r\nL 37.796875 17.1875 \r\nL 4.890625 17.1875 \r\nL 4.890625 26.703125 \r\nz\r\n\" id=\"DejaVuSans-52\"/>\r\n       </defs>\r\n       <use xlink:href=\"#DejaVuSans-52\"/>\r\n       <use x=\"63.623047\" xlink:href=\"#DejaVuSans-48\"/>\r\n      </g>\r\n     </g>\r\n    </g>\r\n   </g>\r\n   <g id=\"matplotlib.axis_2\">\r\n    <g id=\"ytick_1\">\r\n     <g id=\"line2d_10\">\r\n      <defs>\r\n       <path d=\"M 0 0 \r\nL -3.5 0 \r\n\" id=\"m221c15aed2\" style=\"stroke:#000000;stroke-width:0.8;\"/>\r\n      </defs>\r\n      <g>\r\n       <use style=\"stroke:#000000;stroke-width:0.8;\" x=\"26.925\" xlink:href=\"#m221c15aed2\" y=\"200.301306\"/>\r\n      </g>\r\n     </g>\r\n     <g id=\"text_10\">\r\n      <!-- 10 -->\r\n      <g transform=\"translate(7.2 204.100525)scale(0.1 -0.1)\">\r\n       <use xlink:href=\"#DejaVuSans-49\"/>\r\n       <use x=\"63.623047\" xlink:href=\"#DejaVuSans-48\"/>\r\n      </g>\r\n     </g>\r\n    </g>\r\n    <g id=\"ytick_2\">\r\n     <g id=\"line2d_11\">\r\n      <g>\r\n       <use style=\"stroke:#000000;stroke-width:0.8;\" x=\"26.925\" xlink:href=\"#m221c15aed2\" y=\"158.399189\"/>\r\n      </g>\r\n     </g>\r\n     <g id=\"text_11\">\r\n      <!-- 15 -->\r\n      <g transform=\"translate(7.2 162.198407)scale(0.1 -0.1)\">\r\n       <use xlink:href=\"#DejaVuSans-49\"/>\r\n       <use x=\"63.623047\" xlink:href=\"#DejaVuSans-53\"/>\r\n      </g>\r\n     </g>\r\n    </g>\r\n    <g id=\"ytick_3\">\r\n     <g id=\"line2d_12\">\r\n      <g>\r\n       <use style=\"stroke:#000000;stroke-width:0.8;\" x=\"26.925\" xlink:href=\"#m221c15aed2\" y=\"116.497071\"/>\r\n      </g>\r\n     </g>\r\n     <g id=\"text_12\">\r\n      <!-- 20 -->\r\n      <g transform=\"translate(7.2 120.296289)scale(0.1 -0.1)\">\r\n       <use xlink:href=\"#DejaVuSans-50\"/>\r\n       <use x=\"63.623047\" xlink:href=\"#DejaVuSans-48\"/>\r\n      </g>\r\n     </g>\r\n    </g>\r\n    <g id=\"ytick_4\">\r\n     <g id=\"line2d_13\">\r\n      <g>\r\n       <use style=\"stroke:#000000;stroke-width:0.8;\" x=\"26.925\" xlink:href=\"#m221c15aed2\" y=\"74.594953\"/>\r\n      </g>\r\n     </g>\r\n     <g id=\"text_13\">\r\n      <!-- 25 -->\r\n      <g transform=\"translate(7.2 78.394172)scale(0.1 -0.1)\">\r\n       <use xlink:href=\"#DejaVuSans-50\"/>\r\n       <use x=\"63.623047\" xlink:href=\"#DejaVuSans-53\"/>\r\n      </g>\r\n     </g>\r\n    </g>\r\n    <g id=\"ytick_5\">\r\n     <g id=\"line2d_14\">\r\n      <g>\r\n       <use style=\"stroke:#000000;stroke-width:0.8;\" x=\"26.925\" xlink:href=\"#m221c15aed2\" y=\"32.692835\"/>\r\n      </g>\r\n     </g>\r\n     <g id=\"text_14\">\r\n      <!-- 30 -->\r\n      <g transform=\"translate(7.2 36.492054)scale(0.1 -0.1)\">\r\n       <use xlink:href=\"#DejaVuSans-51\"/>\r\n       <use x=\"63.623047\" xlink:href=\"#DejaVuSans-48\"/>\r\n      </g>\r\n     </g>\r\n    </g>\r\n   </g>\r\n   <g id=\"line2d_15\">\r\n    <path clip-path=\"url(#pb7bfde91aa)\" d=\"M 42.143182 17.083636 \r\nL 49.947378 40.530981 \r\nL 57.751573 58.661786 \r\nL 65.555769 72.584321 \r\nL 73.359965 88.241925 \r\nL 81.164161 96.006501 \r\nL 88.968357 105.161592 \r\nL 96.772552 115.336881 \r\nL 104.576748 121.925651 \r\nL 112.380944 123.948236 \r\nL 120.18514 131.094338 \r\nL 127.989336 140.197575 \r\nL 135.793531 144.608687 \r\nL 143.597727 144.772394 \r\nL 151.401923 150.877808 \r\nL 159.206119 158.562516 \r\nL 167.010315 162.596953 \r\nL 174.81451 162.564689 \r\nL 182.618706 166.651537 \r\nL 190.422902 172.221728 \r\nL 198.227098 176.474113 \r\nL 206.031294 176.326801 \r\nL 213.83549 180.12021 \r\nL 221.639685 183.945005 \r\nL 229.443881 182.842109 \r\nL 237.248077 184.58982 \r\nL 245.052273 189.944998 \r\nL 252.856469 191.560797 \r\nL 260.660664 193.958827 \r\nL 268.46486 194.471355 \r\nL 276.269056 197.928292 \r\nL 284.073252 200.282357 \r\nL 291.877448 202.174854 \r\nL 299.681643 203.470508 \r\nL 307.485839 206.700003 \r\nL 315.290035 204.520473 \r\nL 323.094231 212.497199 \r\nL 330.898427 210.195927 \r\nL 338.702622 214.756364 \r\nL 346.506818 213.355374 \r\n\" style=\"fill:none;stroke:#1f77b4;stroke-linecap:square;stroke-width:1.5;\"/>\r\n   </g>\r\n   <g id=\"patch_3\">\r\n    <path d=\"M 26.925 224.64 \r\nL 26.925 7.2 \r\n\" style=\"fill:none;stroke:#000000;stroke-linecap:square;stroke-linejoin:miter;stroke-width:0.8;\"/>\r\n   </g>\r\n   <g id=\"patch_4\">\r\n    <path d=\"M 361.725 224.64 \r\nL 361.725 7.2 \r\n\" style=\"fill:none;stroke:#000000;stroke-linecap:square;stroke-linejoin:miter;stroke-width:0.8;\"/>\r\n   </g>\r\n   <g id=\"patch_5\">\r\n    <path d=\"M 26.925 224.64 \r\nL 361.725 224.64 \r\n\" style=\"fill:none;stroke:#000000;stroke-linecap:square;stroke-linejoin:miter;stroke-width:0.8;\"/>\r\n   </g>\r\n   <g id=\"patch_6\">\r\n    <path d=\"M 26.925 7.2 \r\nL 361.725 7.2 \r\n\" style=\"fill:none;stroke:#000000;stroke-linecap:square;stroke-linejoin:miter;stroke-width:0.8;\"/>\r\n   </g>\r\n  </g>\r\n </g>\r\n <defs>\r\n  <clipPath id=\"pb7bfde91aa\">\r\n   <rect height=\"217.44\" width=\"334.8\" x=\"26.925\" y=\"7.2\"/>\r\n  </clipPath>\r\n </defs>\r\n</svg>\r\n",
      "image/png": "[encoded data removed]"
     },
     "metadata": {
      "needs_background": "light"
     }
    }
   ],
   "source": [
    "net = ESIM(embedding_dim=100, vocab_dim=vocab_size, hidden_size=20, class_num=n_classes, embedding=None, pad_idx=pad_idx)\n",
    "\n",
    "train()"
   ]
  },
  {
   "cell_type": "code",
   "execution_count": 38,
   "metadata": {},
   "outputs": [
    {
     "output_type": "stream",
     "name": "stdout",
     "text": [
      "acc_val:  0.7123958333333333\nCounter({1: 3329, 0: 3278, 2: 3235})\n[0.3286933550091445, 0.3382442592968909, 0.3330623856939646]\n"
     ]
    }
   ],
   "source": [
    "test()"
   ]
  },
  {
   "cell_type": "code",
   "execution_count": null,
   "metadata": {},
   "outputs": [],
   "source": []
  }
 ]
}